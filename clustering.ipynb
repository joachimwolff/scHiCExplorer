{
 "cells": [
  {
   "cell_type": "code",
   "execution_count": 79,
   "metadata": {},
   "outputs": [],
   "source": [
    "import argparse\n",
    "import os\n",
    "import gzip\n",
    "import shutil\n",
    "from multiprocessing import Process, Queue\n",
    "import time\n",
    "import warnings\n",
    "warnings.simplefilter(action=\"ignore\", category=RuntimeWarning)\n",
    "warnings.simplefilter(action=\"ignore\", category=PendingDeprecationWarning)\n",
    "\n",
    "import logging\n",
    "log = logging.getLogger(__name__)\n",
    "\n",
    "import cooler\n",
    "from sparse_neighbors_search import MinHash\n",
    "from sparse_neighbors_search import MinHashDBSCAN\n",
    "from sparse_neighbors_search import MinHashSpectralClustering\n",
    "from sparse_neighbors_search import MinHashClustering\n",
    "\n",
    "from hicmatrix import HiCMatrix\n",
    "from schicexplorer.utilities import opener\n",
    "from hicmatrix.lib import MatrixFileHandler\n",
    "\n",
    "from scipy.sparse import csr_matrix"
   ]
  },
  {
   "cell_type": "code",
   "execution_count": 5,
   "metadata": {},
   "outputs": [],
   "source": [
    "matrices_name = 'matrices.mcool'"
   ]
  },
  {
   "cell_type": "code",
   "execution_count": 52,
   "metadata": {},
   "outputs": [],
   "source": [
    "matrices = cooler.fileops.list_coolers(matrices_name)\n",
    "log.debug('matrices {}'.format(matrices))\n",
    "neighborhood_matrix = None\n",
    "for i, matrix in enumerate(matrices):\n",
    "    matrixFileHandlerInput = MatrixFileHandler(pFileType='cool', pMatrixFile=matrices_name+ '::' +matrix)\n",
    "    _matrix, _, _, \\\n",
    "            _, _ = matrixFileHandlerInput.load()\n",
    "\n",
    "    if neighborhood_matrix is None:\n",
    "        neighborhood_matrix = csr_matrix((len(matrices), _matrix.shape[0] * _matrix.shape[1]), dtype=int)\n",
    "\n",
    "    instances, features = _matrix.nonzero()\n",
    "\n",
    "    instances *= _matrix.shape[1]\n",
    "    instances += features\n",
    "    features = None\n",
    "    neighborhood_matrix[i, instances] = 1 #TODO this is so far wrong\n"
   ]
  },
  {
   "cell_type": "code",
   "execution_count": 82,
   "metadata": {},
   "outputs": [
    {
     "name": "stdout",
     "output_type": "stream",
     "text": [
      "  (0, 0)\t0.0\n",
      "  (0, 2)\t0.36000001430511475\n",
      "  (0, 4)\t0.13999998569488525\n",
      "  (0, 6)\t0.13999998569488525\n",
      "  (0, 9)\t0.18000000715255737\n",
      "  (0, 16)\t0.1600000262260437\n",
      "  (0, 20)\t0.25\n",
      "  (1, 1)\t0.0\n",
      "  (1, 6)\t0.25999999046325684\n",
      "  (1, 9)\t0.24000000953674316\n",
      "  (1, 13)\t0.25\n",
      "  (1, 14)\t0.23000001907348633\n",
      "  (2, 0)\t0.36000001430511475\n",
      "  (2, 2)\t0.0\n",
      "  (2, 7)\t0.3500000238418579\n",
      "  (2, 14)\t0.36000001430511475\n",
      "  (2, 16)\t0.38999998569488525\n",
      "  (3, 3)\t0.0\n",
      "  (3, 4)\t0.30000001192092896\n",
      "  (3, 13)\t0.3199999928474426\n",
      "  (3, 14)\t0.3199999928474426\n",
      "  (3, 21)\t0.3100000023841858\n",
      "  (4, 0)\t0.13999998569488525\n",
      "  (4, 3)\t0.30000001192092896\n",
      "  (4, 4)\t0.0\n",
      "  :\t:\n",
      "  (20, 4)\t0.25\n",
      "  (20, 6)\t0.23000001907348633\n",
      "  (20, 10)\t0.3100000023841858\n",
      "  (20, 18)\t0.26999998092651367\n",
      "  (20, 19)\t0.20999997854232788\n",
      "  (20, 20)\t0.0\n",
      "  (21, 3)\t0.3100000023841858\n",
      "  (21, 4)\t0.25999999046325684\n",
      "  (21, 6)\t0.17000001668930054\n",
      "  (21, 8)\t0.3399999737739563\n",
      "  (21, 14)\t0.25\n",
      "  (21, 21)\t0.0\n",
      "  (21, 23)\t0.25999999046325684\n",
      "  (22, 4)\t0.2200000286102295\n",
      "  (22, 6)\t0.19999998807907104\n",
      "  (22, 10)\t0.38999998569488525\n",
      "  (22, 14)\t0.25999999046325684\n",
      "  (22, 19)\t0.13999998569488525\n",
      "  (22, 22)\t0.0\n",
      "  (23, 4)\t0.23000001907348633\n",
      "  (23, 6)\t0.13999998569488525\n",
      "  (23, 14)\t0.2200000286102295\n",
      "  (23, 16)\t0.12000000476837158\n",
      "  (23, 21)\t0.25999999046325684\n",
      "  (23, 23)\t0.0\n"
     ]
    }
   ],
   "source": [
    "minHash = MinHash(number_of_hash_functions=400, number_of_cores=4, fast=True)\n",
    "minHash.fit(neighborhood_matrix)\n",
    "print(minHash.kneighbors_graph(mode='distance'))"
   ]
  },
  {
   "cell_type": "code",
   "execution_count": 76,
   "metadata": {},
   "outputs": [],
   "source": [
    "\n",
    "# log.debug('neighborhood_matrix {}'.format(neighborhood_matrix))\n",
    "# minHash = MinHash(number_of_hash_functions=20, number_of_cores=4)\n",
    "# minHash.fit(neighborhood_matrix)\n",
    "# print(minHash.kneighbors_graph(mode='distance'))\n",
    "# minHashDbscan = MinHashDBSCAN(number_of_hash_functions=20, number_of_cores=4)\n",
    "# # minHashClustering = MinHashClustering(minHash)\n",
    "# print(minHashDbscan.fit_predict(neighborhood_matrix))\n",
    "\n",
    "minHashSpectralClustering = MinHashSpectralClustering(n_clusters=6, number_of_hash_functions=400, number_of_cores=4,\n",
    "                                                      shingle_size=1, fast=False)\n",
    "# minHashClustering = MinHashClustering(minHash)\n",
    "# print(minHashSpectralClustering.fit_predict(neighborhood_matrix))\n",
    "labels_clustering = minHashSpectralClustering.fit_predict(neighborhood_matrix)"
   ]
  },
  {
   "cell_type": "code",
   "execution_count": 118,
   "metadata": {},
   "outputs": [
    {
     "name": "stdout",
     "output_type": "stream",
     "text": [
      "[ 0  1  2  3  4  5  4  4  6  7  8  9  4  4  4 10  4  4  4 11  4  4  4  4]\n"
     ]
    }
   ],
   "source": [
    "minHashDbscan = MinHashDBSCAN(eps=0.15, min_samples=1, number_of_hash_functions=20, number_of_cores=4, fast=True)\n",
    "# minHashClustering = MinHashClustering(minHash)\n",
    "labels_clustering = minHashDbscan.fit_predict(neighborhood_matrix)\n",
    "print(labels_clustering)"
   ]
  },
  {
   "cell_type": "code",
   "execution_count": null,
   "metadata": {},
   "outputs": [],
   "source": []
  },
  {
   "cell_type": "code",
   "execution_count": 122,
   "metadata": {},
   "outputs": [],
   "source": [
    "labels_clustering = np.delete(labels_clustering, 2)"
   ]
  },
  {
   "cell_type": "code",
   "execution_count": 123,
   "metadata": {},
   "outputs": [],
   "source": [
    "labels_clustering = np.delete(labels_clustering, 9)"
   ]
  },
  {
   "cell_type": "code",
   "execution_count": 120,
   "metadata": {},
   "outputs": [],
   "source": [
    "neighborhood_matrix_to_transform = neighborhood_matrix.todense()\n",
    "neighborhood_matrix_to_transform = np.delete(neighborhood_matrix_to_transform, 2, 0)\n",
    "neighborhood_matrix_to_transform = np.delete(neighborhood_matrix_to_transform, 9, 0)"
   ]
  },
  {
   "cell_type": "code",
   "execution_count": 95,
   "metadata": {},
   "outputs": [
    {
     "data": {
      "text/plain": [
       "array(<24x7529536 sparse matrix of type '<class 'numpy.int64'>'\n",
       "\twith 650322 stored elements in Compressed Sparse Row format>,\n",
       "      dtype=object)"
      ]
     },
     "execution_count": 95,
     "metadata": {},
     "output_type": "execute_result"
    }
   ],
   "source": []
  },
  {
   "cell_type": "code",
   "execution_count": 109,
   "metadata": {},
   "outputs": [],
   "source": [
    "pca = sklearnPCA(n_components=2) #2-dimensional PCA\n",
    "transformed = pd.DataFrame(pca.fit_transform(neighborhood_matrix_to_transform))"
   ]
  },
  {
   "cell_type": "code",
   "execution_count": 110,
   "metadata": {},
   "outputs": [],
   "source": [
    "lda = LDA(n_components=2)\n",
    "lda_transformed = pd.DataFrame(lda.fit_transform(neighborhood_matrix_to_transform, labels_clustering))"
   ]
  },
  {
   "cell_type": "code",
   "execution_count": 124,
   "metadata": {},
   "outputs": [
    {
     "data": {
      "image/png": "[encoded data removed]",
      "text/plain": [
       "<Figure size 432x288 with 1 Axes>"
      ]
     },
     "metadata": {
      "needs_background": "light"
     },
     "output_type": "display_data"
    }
   ],
   "source": [
    "\n",
    "transformed['label'] = labels_clustering\n",
    "colors = ['g', 'b', 'c', 'm', 'y', 'k']\n",
    "for label in set(labels_clustering):\n",
    "    plt.scatter(transformed[transformed['label'] == label][0], transformed[transformed['label'] == label][1], label='Class '+str(label), c=colors[label%len(colors)])\n",
    "\n",
    "plt.legend()\n",
    "plt.show()"
   ]
  },
  {
   "cell_type": "code",
   "execution_count": 112,
   "metadata": {},
   "outputs": [],
   "source": [
    "lda_transformed['label'] = labels_clustering"
   ]
  },
  {
   "cell_type": "code",
   "execution_count": 125,
   "metadata": {},
   "outputs": [
    {
     "data": {
      "image/png": "[encoded data removed]",
      "text/plain": [
       "<Figure size 432x288 with 1 Axes>"
      ]
     },
     "metadata": {
      "needs_background": "light"
     },
     "output_type": "display_data"
    }
   ],
   "source": [
    "lda_transformed['label'] = labels_clustering\n",
    "colors = ['g', 'b', 'c', 'm', 'y', 'k']\n",
    "for label in set(labels_clustering):\n",
    "    plt.scatter(lda_transformed[transformed['label'] == label][0], lda_transformed[transformed['label'] == label][1], label='Class '+str(label), c=colors[label%len(colors)])\n",
    "\n",
    "plt.legend()\n",
    "plt.show()"
   ]
  },
  {
   "cell_type": "code",
   "execution_count": 57,
   "metadata": {},
   "outputs": [
    {
     "data": {
      "text/html": [
       "<div>\n",
       "<style scoped>\n",
       "    .dataframe tbody tr th:only-of-type {\n",
       "        vertical-align: middle;\n",
       "    }\n",
       "\n",
       "    .dataframe tbody tr th {\n",
       "        vertical-align: top;\n",
       "    }\n",
       "\n",
       "    .dataframe thead th {\n",
       "        text-align: right;\n",
       "    }\n",
       "</style>\n",
       "<table border=\"1\" class=\"dataframe\">\n",
       "  <thead>\n",
       "    <tr style=\"text-align: right;\">\n",
       "      <th></th>\n",
       "      <th>0</th>\n",
       "      <th>1</th>\n",
       "    </tr>\n",
       "  </thead>\n",
       "  <tbody>\n",
       "    <tr>\n",
       "      <th>0</th>\n",
       "      <td>0.004754</td>\n",
       "      <td>-0.007171</td>\n",
       "    </tr>\n",
       "    <tr>\n",
       "      <th>1</th>\n",
       "      <td>-0.297212</td>\n",
       "      <td>1.471385</td>\n",
       "    </tr>\n",
       "    <tr>\n",
       "      <th>2</th>\n",
       "      <td>-0.662161</td>\n",
       "      <td>-2.025609</td>\n",
       "    </tr>\n",
       "    <tr>\n",
       "      <th>3</th>\n",
       "      <td>-0.020061</td>\n",
       "      <td>0.004709</td>\n",
       "    </tr>\n",
       "    <tr>\n",
       "      <th>4</th>\n",
       "      <td>0.079115</td>\n",
       "      <td>-0.809388</td>\n",
       "    </tr>\n",
       "    <tr>\n",
       "      <th>5</th>\n",
       "      <td>-0.133112</td>\n",
       "      <td>-0.006814</td>\n",
       "    </tr>\n",
       "    <tr>\n",
       "      <th>6</th>\n",
       "      <td>-0.024928</td>\n",
       "      <td>-0.198698</td>\n",
       "    </tr>\n",
       "    <tr>\n",
       "      <th>7</th>\n",
       "      <td>-0.188611</td>\n",
       "      <td>1.351364</td>\n",
       "    </tr>\n",
       "    <tr>\n",
       "      <th>8</th>\n",
       "      <td>-0.207685</td>\n",
       "      <td>-0.157311</td>\n",
       "    </tr>\n",
       "    <tr>\n",
       "      <th>9</th>\n",
       "      <td>-1.918392</td>\n",
       "      <td>0.043411</td>\n",
       "    </tr>\n",
       "    <tr>\n",
       "      <th>10</th>\n",
       "      <td>3.618774</td>\n",
       "      <td>-0.036782</td>\n",
       "    </tr>\n",
       "    <tr>\n",
       "      <th>11</th>\n",
       "      <td>-0.064880</td>\n",
       "      <td>-0.064634</td>\n",
       "    </tr>\n",
       "    <tr>\n",
       "      <th>12</th>\n",
       "      <td>-0.057160</td>\n",
       "      <td>0.018458</td>\n",
       "    </tr>\n",
       "    <tr>\n",
       "      <th>13</th>\n",
       "      <td>0.128830</td>\n",
       "      <td>-1.468142</td>\n",
       "    </tr>\n",
       "    <tr>\n",
       "      <th>14</th>\n",
       "      <td>-0.087791</td>\n",
       "      <td>0.994188</td>\n",
       "    </tr>\n",
       "    <tr>\n",
       "      <th>15</th>\n",
       "      <td>-0.046873</td>\n",
       "      <td>-0.062662</td>\n",
       "    </tr>\n",
       "    <tr>\n",
       "      <th>16</th>\n",
       "      <td>0.091342</td>\n",
       "      <td>0.166742</td>\n",
       "    </tr>\n",
       "    <tr>\n",
       "      <th>17</th>\n",
       "      <td>-0.034266</td>\n",
       "      <td>0.063171</td>\n",
       "    </tr>\n",
       "    <tr>\n",
       "      <th>18</th>\n",
       "      <td>-0.271419</td>\n",
       "      <td>1.177935</td>\n",
       "    </tr>\n",
       "    <tr>\n",
       "      <th>19</th>\n",
       "      <td>-0.001240</td>\n",
       "      <td>-1.617975</td>\n",
       "    </tr>\n",
       "    <tr>\n",
       "      <th>20</th>\n",
       "      <td>0.045243</td>\n",
       "      <td>0.618193</td>\n",
       "    </tr>\n",
       "    <tr>\n",
       "      <th>21</th>\n",
       "      <td>-0.045357</td>\n",
       "      <td>-0.023617</td>\n",
       "    </tr>\n",
       "    <tr>\n",
       "      <th>22</th>\n",
       "      <td>0.225984</td>\n",
       "      <td>0.597771</td>\n",
       "    </tr>\n",
       "    <tr>\n",
       "      <th>23</th>\n",
       "      <td>-0.132893</td>\n",
       "      <td>-0.028524</td>\n",
       "    </tr>\n",
       "  </tbody>\n",
       "</table>\n",
       "</div>"
      ],
      "text/plain": [
       "           0         1\n",
       "0   0.004754 -0.007171\n",
       "1  -0.297212  1.471385\n",
       "2  -0.662161 -2.025609\n",
       "3  -0.020061  0.004709\n",
       "4   0.079115 -0.809388\n",
       "5  -0.133112 -0.006814\n",
       "6  -0.024928 -0.198698\n",
       "7  -0.188611  1.351364\n",
       "8  -0.207685 -0.157311\n",
       "9  -1.918392  0.043411\n",
       "10  3.618774 -0.036782\n",
       "11 -0.064880 -0.064634\n",
       "12 -0.057160  0.018458\n",
       "13  0.128830 -1.468142\n",
       "14 -0.087791  0.994188\n",
       "15 -0.046873 -0.062662\n",
       "16  0.091342  0.166742\n",
       "17 -0.034266  0.063171\n",
       "18 -0.271419  1.177935\n",
       "19 -0.001240 -1.617975\n",
       "20  0.045243  0.618193\n",
       "21 -0.045357 -0.023617\n",
       "22  0.225984  0.597771\n",
       "23 -0.132893 -0.028524"
      ]
     },
     "execution_count": 57,
     "metadata": {},
     "output_type": "execute_result"
    }
   ],
   "source": [
    "lda_transformed"
   ]
  },
  {
   "cell_type": "code",
   "execution_count": null,
   "metadata": {},
   "outputs": [],
   "source": []
  },
  {
   "cell_type": "code",
   "execution_count": null,
   "metadata": {},
   "outputs": [],
   "source": []
  },
  {
   "cell_type": "code",
   "execution_count": 34,
   "metadata": {},
   "outputs": [],
   "source": [
    "import matplotlib.pyplot as plt\n",
    "import pandas as pd\n",
    "\n",
    "from sklearn.decomposition import PCA as sklearnPCA\n",
    "from sklearn.discriminant_analysis import LinearDiscriminantAnalysis as LDA\n",
    "from sklearn.datasets.samples_generator import make_blobs\n",
    "\n",
    "# from pandas.tools.plotting import parallel_coordinates"
   ]
  },
  {
   "cell_type": "code",
   "execution_count": 11,
   "metadata": {},
   "outputs": [],
   "source": [
    "X, y = make_blobs(n_samples=200, centers=3, n_features=2, random_state=0)\n"
   ]
  },
  {
   "cell_type": "code",
   "execution_count": 14,
   "metadata": {},
   "outputs": [
    {
     "data": {
      "image/png": "[encoded data removed]",
      "text/plain": [
       "<Figure size 432x288 with 1 Axes>"
      ]
     },
     "metadata": {
      "needs_background": "light"
     },
     "output_type": "display_data"
    }
   ],
   "source": [
    "plt.scatter(X[:,0], X[:,1], c=y)\n",
    "plt.show()"
   ]
  },
  {
   "cell_type": "code",
   "execution_count": 15,
   "metadata": {},
   "outputs": [],
   "source": [
    "url = 'https://archive.ics.uci.edu/ml/machine-learning-databases/wine/wine.data'\n",
    "cols =  ['Class', 'Alcohol', 'MalicAcid', 'Ash', 'AlcalinityOfAsh', 'Magnesium', 'TotalPhenols', \n",
    "         'Flavanoids', 'NonflavanoidPhenols', 'Proanthocyanins', 'ColorIntensity', \n",
    "         'Hue', 'OD280/OD315', 'Proline']\n",
    "data = pd.read_csv(url, names=cols)\n",
    "\n",
    "y = data['Class']          # Split off classifications\n",
    "X = data.ix[:, 'Alcohol':] # Split off features"
   ]
  },
  {
   "cell_type": "code",
   "execution_count": 17,
   "metadata": {},
   "outputs": [
    {
     "data": {
      "image/png": "[encoded data removed]",
      "text/plain": [
       "<Figure size 432x288 with 1 Axes>"
      ]
     },
     "metadata": {
      "needs_background": "light"
     },
     "output_type": "display_data"
    }
   ],
   "source": [
    "# three different scatter series so the class labels in the legend are distinct\n",
    "plt.scatter(X[y==1]['Flavanoids'], X[y==1]['NonflavanoidPhenols'], label='Class 1', c='red')\n",
    "plt.scatter(X[y==2]['Flavanoids'], X[y==2]['NonflavanoidPhenols'], label='Class 2', c='blue')\n",
    "plt.scatter(X[y==3]['Flavanoids'], X[y==3]['NonflavanoidPhenols'], label='Class 3', c='lightgreen')\n",
    "\n",
    "# Prettify the graph\n",
    "plt.legend()\n",
    "plt.xlabel('Flavanoids')\n",
    "plt.ylabel('NonflavanoidPhenols')\n",
    "\n",
    "# display\n",
    "plt.show()"
   ]
  },
  {
   "cell_type": "code",
   "execution_count": 26,
   "metadata": {},
   "outputs": [],
   "source": [
    "X_norm = (neighborhood_matrix - neighborhood_matrix.min())/(neighborhood_matrix.max() - neighborhood_matrix.min())\n"
   ]
  },
  {
   "cell_type": "code",
   "execution_count": 30,
   "metadata": {},
   "outputs": [
    {
     "data": {
      "text/plain": [
       "<24x7529536 sparse matrix of type '<class 'numpy.float64'>'\n",
       "\twith 650322 stored elements in Compressed Sparse Row format>"
      ]
     },
     "execution_count": 30,
     "metadata": {},
     "output_type": "execute_result"
    }
   ],
   "source": [
    "X_norm"
   ]
  },
  {
   "cell_type": "code",
   "execution_count": 31,
   "metadata": {},
   "outputs": [],
   "source": [
    "import numpy as np"
   ]
  },
  {
   "cell_type": "code",
   "execution_count": 33,
   "metadata": {},
   "outputs": [],
   "source": [
    "corrmatrix = np.cov(X_norm.todense())"
   ]
  },
  {
   "cell_type": "code",
   "execution_count": null,
   "metadata": {},
   "outputs": [],
   "source": []
  },
  {
   "cell_type": "code",
   "execution_count": 35,
   "metadata": {},
   "outputs": [],
   "source": [
    "pca = sklearnPCA(n_components=2) #2-dimensional PCA\n",
    "transformed = pd.DataFrame(pca.fit_transform(X_norm.todense()))\n"
   ]
  },
  {
   "cell_type": "code",
   "execution_count": 42,
   "metadata": {},
   "outputs": [],
   "source": [
    "transformed['label'] = labels_clustering"
   ]
  },
  {
   "cell_type": "code",
   "execution_count": 43,
   "metadata": {},
   "outputs": [
    {
     "data": {
      "text/html": [
       "<div>\n",
       "<style scoped>\n",
       "    .dataframe tbody tr th:only-of-type {\n",
       "        vertical-align: middle;\n",
       "    }\n",
       "\n",
       "    .dataframe tbody tr th {\n",
       "        vertical-align: top;\n",
       "    }\n",
       "\n",
       "    .dataframe thead th {\n",
       "        text-align: right;\n",
       "    }\n",
       "</style>\n",
       "<table border=\"1\" class=\"dataframe\">\n",
       "  <thead>\n",
       "    <tr style=\"text-align: right;\">\n",
       "      <th></th>\n",
       "      <th>0</th>\n",
       "      <th>1</th>\n",
       "      <th>label</th>\n",
       "    </tr>\n",
       "  </thead>\n",
       "  <tbody>\n",
       "    <tr>\n",
       "      <th>0</th>\n",
       "      <td>-6.887874</td>\n",
       "      <td>-7.651270</td>\n",
       "      <td>1</td>\n",
       "    </tr>\n",
       "    <tr>\n",
       "      <th>1</th>\n",
       "      <td>-8.994270</td>\n",
       "      <td>-10.143428</td>\n",
       "      <td>6</td>\n",
       "    </tr>\n",
       "    <tr>\n",
       "      <th>2</th>\n",
       "      <td>-50.677353</td>\n",
       "      <td>163.532528</td>\n",
       "      <td>1</td>\n",
       "    </tr>\n",
       "    <tr>\n",
       "      <th>3</th>\n",
       "      <td>-3.620040</td>\n",
       "      <td>-12.174433</td>\n",
       "      <td>2</td>\n",
       "    </tr>\n",
       "    <tr>\n",
       "      <th>4</th>\n",
       "      <td>-7.189306</td>\n",
       "      <td>-7.201640</td>\n",
       "      <td>1</td>\n",
       "    </tr>\n",
       "    <tr>\n",
       "      <th>5</th>\n",
       "      <td>-9.165578</td>\n",
       "      <td>-8.202448</td>\n",
       "      <td>1</td>\n",
       "    </tr>\n",
       "    <tr>\n",
       "      <th>6</th>\n",
       "      <td>-7.713749</td>\n",
       "      <td>-7.841100</td>\n",
       "      <td>1</td>\n",
       "    </tr>\n",
       "    <tr>\n",
       "      <th>7</th>\n",
       "      <td>-4.086945</td>\n",
       "      <td>-10.426627</td>\n",
       "      <td>3</td>\n",
       "    </tr>\n",
       "    <tr>\n",
       "      <th>8</th>\n",
       "      <td>-8.314678</td>\n",
       "      <td>-11.650242</td>\n",
       "      <td>1</td>\n",
       "    </tr>\n",
       "    <tr>\n",
       "      <th>9</th>\n",
       "      <td>-0.303515</td>\n",
       "      <td>-10.136707</td>\n",
       "      <td>7</td>\n",
       "    </tr>\n",
       "    <tr>\n",
       "      <th>10</th>\n",
       "      <td>170.707546</td>\n",
       "      <td>42.414472</td>\n",
       "      <td>4</td>\n",
       "    </tr>\n",
       "    <tr>\n",
       "      <th>11</th>\n",
       "      <td>-5.480443</td>\n",
       "      <td>-11.948401</td>\n",
       "      <td>4</td>\n",
       "    </tr>\n",
       "    <tr>\n",
       "      <th>12</th>\n",
       "      <td>-6.922021</td>\n",
       "      <td>-7.518085</td>\n",
       "      <td>0</td>\n",
       "    </tr>\n",
       "    <tr>\n",
       "      <th>13</th>\n",
       "      <td>-6.860229</td>\n",
       "      <td>-7.051226</td>\n",
       "      <td>1</td>\n",
       "    </tr>\n",
       "    <tr>\n",
       "      <th>14</th>\n",
       "      <td>-7.888730</td>\n",
       "      <td>-7.723777</td>\n",
       "      <td>6</td>\n",
       "    </tr>\n",
       "    <tr>\n",
       "      <th>15</th>\n",
       "      <td>-7.877275</td>\n",
       "      <td>-6.801005</td>\n",
       "      <td>1</td>\n",
       "    </tr>\n",
       "    <tr>\n",
       "      <th>16</th>\n",
       "      <td>-7.204750</td>\n",
       "      <td>-7.200738</td>\n",
       "      <td>1</td>\n",
       "    </tr>\n",
       "    <tr>\n",
       "      <th>17</th>\n",
       "      <td>-8.128342</td>\n",
       "      <td>-8.991479</td>\n",
       "      <td>1</td>\n",
       "    </tr>\n",
       "    <tr>\n",
       "      <th>18</th>\n",
       "      <td>-9.100877</td>\n",
       "      <td>-10.258092</td>\n",
       "      <td>5</td>\n",
       "    </tr>\n",
       "    <tr>\n",
       "      <th>19</th>\n",
       "      <td>1.889327</td>\n",
       "      <td>-14.111817</td>\n",
       "      <td>7</td>\n",
       "    </tr>\n",
       "    <tr>\n",
       "      <th>20</th>\n",
       "      <td>-1.246441</td>\n",
       "      <td>-11.609562</td>\n",
       "      <td>7</td>\n",
       "    </tr>\n",
       "    <tr>\n",
       "      <th>21</th>\n",
       "      <td>-5.795965</td>\n",
       "      <td>-8.391718</td>\n",
       "      <td>5</td>\n",
       "    </tr>\n",
       "    <tr>\n",
       "      <th>22</th>\n",
       "      <td>10.146211</td>\n",
       "      <td>-9.358840</td>\n",
       "      <td>1</td>\n",
       "    </tr>\n",
       "    <tr>\n",
       "      <th>23</th>\n",
       "      <td>-9.284706</td>\n",
       "      <td>-9.554364</td>\n",
       "      <td>1</td>\n",
       "    </tr>\n",
       "  </tbody>\n",
       "</table>\n",
       "</div>"
      ],
      "text/plain": [
       "             0           1  label\n",
       "0    -6.887874   -7.651270      1\n",
       "1    -8.994270  -10.143428      6\n",
       "2   -50.677353  163.532528      1\n",
       "3    -3.620040  -12.174433      2\n",
       "4    -7.189306   -7.201640      1\n",
       "5    -9.165578   -8.202448      1\n",
       "6    -7.713749   -7.841100      1\n",
       "7    -4.086945  -10.426627      3\n",
       "8    -8.314678  -11.650242      1\n",
       "9    -0.303515  -10.136707      7\n",
       "10  170.707546   42.414472      4\n",
       "11   -5.480443  -11.948401      4\n",
       "12   -6.922021   -7.518085      0\n",
       "13   -6.860229   -7.051226      1\n",
       "14   -7.888730   -7.723777      6\n",
       "15   -7.877275   -6.801005      1\n",
       "16   -7.204750   -7.200738      1\n",
       "17   -8.128342   -8.991479      1\n",
       "18   -9.100877  -10.258092      5\n",
       "19    1.889327  -14.111817      7\n",
       "20   -1.246441  -11.609562      7\n",
       "21   -5.795965   -8.391718      5\n",
       "22   10.146211   -9.358840      1\n",
       "23   -9.284706   -9.554364      1"
      ]
     },
     "execution_count": 43,
     "metadata": {},
     "output_type": "execute_result"
    }
   ],
   "source": [
    "transformed"
   ]
  },
  {
   "cell_type": "code",
   "execution_count": 48,
   "metadata": {},
   "outputs": [
    {
     "data": {
      "text/plain": [
       "0      -7.651270\n",
       "2     163.532528\n",
       "4      -7.201640\n",
       "5      -8.202448\n",
       "6      -7.841100\n",
       "8     -11.650242\n",
       "13     -7.051226\n",
       "15     -6.801005\n",
       "16     -7.200738\n",
       "17     -8.991479\n",
       "22     -9.358840\n",
       "23     -9.554364\n",
       "Name: 1, dtype: float64"
      ]
     },
     "execution_count": 48,
     "metadata": {},
     "output_type": "execute_result"
    }
   ],
   "source": [
    "transformed[transformed['label'] == 1][1]"
   ]
  },
  {
   "cell_type": "code",
   "execution_count": 24,
   "metadata": {},
   "outputs": [
    {
     "data": {
      "text/plain": [
       "array([[-7.06335756e-01, -2.53192753e-01],\n",
       "       [-4.84976802e-01, -8.82289142e-03],\n",
       "       [-5.21172266e-01, -1.89187222e-01],\n",
       "       [-8.21643663e-01, -5.80905512e-01],\n",
       "       [-2.02546382e-01, -5.94665740e-02],\n",
       "       [-6.08190152e-01, -4.87519191e-01],\n",
       "       [-5.44047399e-01, -3.00196497e-01],\n",
       "       [-4.74357495e-01, -2.98197021e-01],\n",
       "       [-5.00432012e-01, -3.07602859e-01],\n",
       "       [-6.27517969e-01, -2.06328233e-01],\n",
       "       [-7.27467157e-01, -3.56512044e-01],\n",
       "       [-3.74967744e-01, -2.25424535e-01],\n",
       "       [-4.48188283e-01, -2.31938139e-01],\n",
       "       [-6.26345329e-01, -3.55138677e-01],\n",
       "       [-8.35717011e-01, -5.38047802e-01],\n",
       "       [-4.71931568e-01, -3.37405385e-01],\n",
       "       [-4.26990905e-01, -4.50842684e-01],\n",
       "       [-3.66595704e-01, -3.15750341e-01],\n",
       "       [-7.18788533e-01, -5.93881332e-01],\n",
       "       [-4.58884986e-01, -1.75782240e-01],\n",
       "       [-6.61852288e-01, -1.27831032e-01],\n",
       "       [-2.67900032e-01,  9.81127565e-03],\n",
       "       [-5.99782399e-01,  7.82494523e-04],\n",
       "       [-4.17894800e-01,  1.13786901e-01],\n",
       "       [-4.49940392e-01,  9.83771974e-02],\n",
       "       [-2.15787795e-01,  9.26270331e-03],\n",
       "       [-4.15531996e-01, -1.55470385e-01],\n",
       "       [-2.83946970e-01, -8.97364262e-02],\n",
       "       [-4.75099227e-01, -8.80516479e-02],\n",
       "       [-5.14396469e-01, -1.04602502e-01],\n",
       "       [-5.20965812e-01, -2.58430884e-01],\n",
       "       [-5.75738233e-01, -3.61155788e-01],\n",
       "       [-3.02144639e-01, -5.14943064e-02],\n",
       "       [-3.67021971e-01, -2.68616630e-01],\n",
       "       [-3.03022468e-01, -1.21413202e-01],\n",
       "       [-4.58338878e-01, -3.03098822e-02],\n",
       "       [-2.71566325e-01, -7.61238406e-02],\n",
       "       [-2.32004189e-01, -5.03302763e-02],\n",
       "       [-3.05480403e-01,  6.16775563e-02],\n",
       "       [-5.19605033e-01, -3.13830061e-01],\n",
       "       [-5.30575114e-01, -1.29536623e-01],\n",
       "       [-1.87044526e-01, -1.24830306e-01],\n",
       "       [-7.05508197e-01, -2.36951582e-01],\n",
       "       [-1.11517299e-01, -6.93158637e-02],\n",
       "       [-4.67360652e-01, -4.17305795e-03],\n",
       "       [-2.90122801e-01, -3.67221063e-01],\n",
       "       [-5.83259370e-01, -3.09000481e-01],\n",
       "       [-6.20279029e-01, -1.93810631e-01],\n",
       "       [-3.94822370e-01, -2.93598970e-01],\n",
       "       [-5.59620161e-01, -4.08270579e-01],\n",
       "       [-6.31721343e-01, -1.53075104e-01],\n",
       "       [-6.19429907e-01, -1.89577074e-01],\n",
       "       [-7.31057466e-01, -3.52882173e-01],\n",
       "       [-4.46372391e-01, -3.75445367e-01],\n",
       "       [-4.72271686e-01, -2.17583775e-01],\n",
       "       [-5.26519475e-01, -2.47353412e-01],\n",
       "       [-5.80922838e-01, -2.96118382e-01],\n",
       "       [-4.56499660e-01, -2.54172861e-01],\n",
       "       [-6.68673306e-01, -3.73626692e-01],\n",
       "       [ 2.36612131e-01,  4.15897679e-01],\n",
       "       [ 4.11083017e-01,  2.39042056e-01],\n",
       "       [ 4.53466145e-01,  1.15387043e-01],\n",
       "       [-1.02908723e-02,  1.44058312e-01],\n",
       "       [-4.53680708e-01,  3.58591310e-01],\n",
       "       [ 1.85889069e-01,  4.31970612e-01],\n",
       "       [-1.32514400e-01,  1.77025232e-01],\n",
       "       [-4.81660733e-01,  2.48221509e-01],\n",
       "       [-1.37359790e-01,  4.31281611e-01],\n",
       "       [ 2.20157829e-01,  2.60739073e-02],\n",
       "       [-3.45031544e-01,  3.16134486e-01],\n",
       "       [ 3.67943408e-01,  1.55916428e-01],\n",
       "       [-4.08324351e-01,  2.21997603e-01],\n",
       "       [ 7.54211315e-02,  1.96129620e-01],\n",
       "       [-5.99276557e-01,  8.58331792e-02],\n",
       "       [-4.59562261e-01,  2.77406318e-01],\n",
       "       [ 2.31860903e-01,  4.39499276e-01],\n",
       "       [-6.49397655e-02,  3.10816394e-01],\n",
       "       [ 3.23736371e-01,  3.22191312e-01],\n",
       "       [-1.33928622e-01,  1.67857293e-01],\n",
       "       [-8.63464614e-02,  2.50941891e-01],\n",
       "       [-1.87477316e-01,  6.49776372e-01],\n",
       "       [-2.53589040e-01,  2.49115557e-01],\n",
       "       [ 6.45922121e-02,  4.87258389e-01],\n",
       "       [ 5.68567489e-01, -2.72502414e-03],\n",
       "       [-2.07555330e-01,  3.83332423e-01],\n",
       "       [-1.84826649e-01,  4.18166208e-01],\n",
       "       [ 1.94604609e-01,  4.44698701e-01],\n",
       "       [ 4.97903090e-02,  5.58265148e-01],\n",
       "       [ 2.01995378e-01,  3.91867103e-01],\n",
       "       [ 2.60011770e-02,  5.20397483e-01],\n",
       "       [ 3.20777030e-01,  4.07964175e-01],\n",
       "       [ 3.21433432e-01,  4.14255535e-01],\n",
       "       [ 4.41539233e-01,  2.80747043e-01],\n",
       "       [-1.83814799e-01,  4.70714917e-01],\n",
       "       [-2.34623773e-01,  4.82068800e-01],\n",
       "       [-3.98762991e-01,  6.68359472e-02],\n",
       "       [ 1.32311032e-01,  2.33219802e-01],\n",
       "       [-2.03237436e-01,  4.46450045e-01],\n",
       "       [-4.91302147e-01,  2.39224247e-01],\n",
       "       [-2.22211504e-01,  4.05617951e-01],\n",
       "       [-1.78415144e-01,  3.83375676e-01],\n",
       "       [ 8.82037061e-02,  3.91561686e-01],\n",
       "       [-4.59627898e-02,  3.16898298e-01],\n",
       "       [ 1.27165257e-01,  4.86899646e-01],\n",
       "       [-1.68359803e-01,  3.79932119e-01],\n",
       "       [ 3.34941838e-01,  4.01936155e-01],\n",
       "       [ 3.08559770e-02,  4.12679142e-01],\n",
       "       [ 3.31338297e-01,  2.69832520e-01],\n",
       "       [-3.25248675e-02,  4.59852304e-01],\n",
       "       [-3.63261832e-01,  3.91179206e-01],\n",
       "       [-2.58928676e-01,  2.82827496e-01],\n",
       "       [ 1.22122333e-03,  3.83225395e-01],\n",
       "       [ 3.11152099e-01,  2.70193984e-01],\n",
       "       [ 9.92201563e-02,  5.07021835e-01],\n",
       "       [ 1.87326999e-02,  4.56899550e-01],\n",
       "       [-6.13720074e-02,  7.77543093e-01],\n",
       "       [-2.53109370e-02,  5.59167632e-01],\n",
       "       [ 1.25729314e-03,  4.42898174e-01],\n",
       "       [ 5.12737594e-01,  1.71179320e-01],\n",
       "       [ 9.10642272e-02,  4.11366678e-01],\n",
       "       [-2.20708758e-01,  3.59648556e-01],\n",
       "       [-3.57855636e-01,  2.43309637e-01],\n",
       "       [ 1.96736866e-01,  2.68406268e-01],\n",
       "       [ 4.66832534e-02,  1.02594073e-01],\n",
       "       [-2.76379590e-01,  3.48247689e-01],\n",
       "       [-5.80494972e-02,  4.43300887e-01],\n",
       "       [-5.61569953e-02,  2.89123497e-01],\n",
       "       [ 3.18351542e-01,  3.69040098e-01],\n",
       "       [ 6.16894441e-02,  4.30372899e-01],\n",
       "       [ 3.35113252e-01,  2.33117539e-01],\n",
       "       [ 3.38878410e-01, -1.63054182e-02],\n",
       "       [ 5.25473386e-01, -6.85182058e-02],\n",
       "       [ 6.10608687e-01, -3.87597325e-02],\n",
       "       [ 4.70503301e-01, -7.80055196e-02],\n",
       "       [ 5.59522391e-01,  4.55607505e-02],\n",
       "       [ 7.00887626e-01, -1.05783625e-01],\n",
       "       [ 8.68367098e-01, -4.07280841e-02],\n",
       "       [ 8.62780923e-01, -7.82006550e-02],\n",
       "       [ 6.83749542e-01, -1.33888807e-01],\n",
       "       [ 4.90719365e-01,  5.56742597e-04],\n",
       "       [ 5.69453098e-01,  5.36461511e-03],\n",
       "       [ 4.24677352e-01, -9.95305796e-02],\n",
       "       [ 6.15620030e-01, -4.77516359e-02],\n",
       "       [ 5.22173329e-01, -1.38443762e-01],\n",
       "       [ 4.77614572e-01, -2.27298230e-01],\n",
       "       [ 5.79679657e-01, -1.57739251e-01],\n",
       "       [ 9.15216446e-01, -2.14231373e-01],\n",
       "       [ 7.36788844e-01, -2.52267555e-01],\n",
       "       [ 6.03862841e-01, -3.27962913e-01],\n",
       "       [ 6.54244135e-01, -3.78555154e-01],\n",
       "       [ 5.20842263e-01, -3.83062058e-01],\n",
       "       [ 5.49621418e-01, -3.34917377e-01],\n",
       "       [ 4.06086595e-01, -1.90280414e-01],\n",
       "       [ 6.67875156e-01, -4.47135704e-01],\n",
       "       [ 6.26785798e-01, -8.89615490e-02],\n",
       "       [ 8.17055087e-01, -3.91798468e-01],\n",
       "       [ 6.50979872e-01, -4.12211745e-01],\n",
       "       [ 7.13430627e-01, -2.04371473e-01],\n",
       "       [ 2.56575999e-01, -6.45305842e-01],\n",
       "       [ 3.73642517e-01, -4.43532276e-01],\n",
       "       [ 6.75012039e-01, -1.43459280e-01],\n",
       "       [ 5.17484679e-01, -2.29187276e-01],\n",
       "       [ 6.26069565e-01, -4.62805195e-02],\n",
       "       [ 5.79008532e-01, -1.39074816e-01],\n",
       "       [ 6.24375675e-01, -3.48868312e-01],\n",
       "       [ 7.66349788e-01, -2.23018532e-01],\n",
       "       [ 5.63011192e-01, -4.76565598e-01],\n",
       "       [ 6.24388906e-01, -2.88769367e-01],\n",
       "       [ 4.72514206e-01, -3.60781032e-01],\n",
       "       [ 4.82393361e-01, -4.15988803e-01],\n",
       "       [ 6.79182280e-01,  6.57518884e-02],\n",
       "       [ 7.74530367e-01, -1.81913660e-01],\n",
       "       [ 5.37656394e-01, -4.62404696e-01],\n",
       "       [ 7.39509503e-01, -4.71901149e-01],\n",
       "       [ 5.81781139e-01, -3.48365752e-01],\n",
       "       [ 6.26312888e-01, -5.46857013e-01],\n",
       "       [ 5.72991102e-01, -4.25516087e-01],\n",
       "       [ 7.01763997e-01, -5.13504983e-01]])"
      ]
     },
     "execution_count": 24,
     "metadata": {},
     "output_type": "execute_result"
    }
   ],
   "source": [
    "pca.fit_transform(X_norm)"
   ]
  },
  {
   "cell_type": "code",
   "execution_count": 41,
   "metadata": {},
   "outputs": [
    {
     "data": {
      "text/html": [
       "<div>\n",
       "<style scoped>\n",
       "    .dataframe tbody tr th:only-of-type {\n",
       "        vertical-align: middle;\n",
       "    }\n",
       "\n",
       "    .dataframe tbody tr th {\n",
       "        vertical-align: top;\n",
       "    }\n",
       "\n",
       "    .dataframe thead th {\n",
       "        text-align: right;\n",
       "    }\n",
       "</style>\n",
       "<table border=\"1\" class=\"dataframe\">\n",
       "  <thead>\n",
       "    <tr style=\"text-align: right;\">\n",
       "      <th></th>\n",
       "      <th>0</th>\n",
       "      <th>1</th>\n",
       "    </tr>\n",
       "  </thead>\n",
       "  <tbody>\n",
       "  </tbody>\n",
       "</table>\n",
       "</div>"
      ],
      "text/plain": [
       "Empty DataFrame\n",
       "Columns: [0, 1]\n",
       "Index: []"
      ]
     },
     "execution_count": 41,
     "metadata": {},
     "output_type": "execute_result"
    }
   ],
   "source": []
  },
  {
   "cell_type": "code",
   "execution_count": 51,
   "metadata": {},
   "outputs": [
    {
     "data": {
      "image/png": "[encoded data removed]",
      "text/plain": [
       "<Figure size 432x288 with 1 Axes>"
      ]
     },
     "metadata": {
      "needs_background": "light"
     },
     "output_type": "display_data"
    }
   ],
   "source": [
    "colors = ['g', 'b', 'c', 'm', 'y', 'k']\n",
    "for label in set(labels_clustering):\n",
    "    plt.scatter(transformed[transformed['label'] == label][0], transformed[transformed['label'] == label][1], label='Class '+str(label), c=colors[label%len(colors)])\n",
    "\n",
    "plt.legend()\n",
    "plt.show()"
   ]
  }
 ],
 "metadata": {
  "kernelspec": {
   "display_name": "Python 3",
   "language": "python",
   "name": "python3"
  },
  "language_info": {
   "codemirror_mode": {
    "name": "ipython",
    "version": 3
   },
   "file_extension": ".py",
   "mimetype": "text/x-python",
   "name": "python",
   "nbconvert_exporter": "python",
   "pygments_lexer": "ipython3",
   "version": "3.7.3"
  }
 },
 "nbformat": 4,
 "nbformat_minor": 2
}
