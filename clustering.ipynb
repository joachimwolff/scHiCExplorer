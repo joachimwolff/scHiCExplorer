{
 "cells": [
  {
   "cell_type": "code",
   "execution_count": 8,
   "metadata": {},
   "outputs": [],
   "source": [
    "import argparse\n",
    "import os\n",
    "import gzip\n",
    "import shutil\n",
    "from multiprocessing import Process, Queue\n",
    "import time\n",
    "import warnings\n",
    "warnings.simplefilter(action=\"ignore\", category=RuntimeWarning)\n",
    "warnings.simplefilter(action=\"ignore\", category=PendingDeprecationWarning)\n",
    "\n",
    "import logging\n",
    "log = logging.getLogger(__name__)\n",
    "\n",
    "import cooler\n",
    "from sparse_neighbors_search import MinHash\n",
    "from sparse_neighbors_search import MinHashDBSCAN\n",
    "from sparse_neighbors_search import MinHashSpectralClustering\n",
    "from sparse_neighbors_search import MinHashClustering\n",
    "\n",
    "from hicmatrix import HiCMatrix\n",
    "from schicexplorer.utilities import opener\n",
    "from hicmatrix.lib import MatrixFileHandler\n",
    "\n",
    "import numpy as np\n",
    "import pandas as pd\n",
    "from scipy.sparse import csr_matrix"
   ]
  },
  {
   "cell_type": "code",
   "execution_count": 2,
   "metadata": {},
   "outputs": [],
   "source": [
    "matrices_name = 'matrices.mcool'"
   ]
  },
  {
   "cell_type": "code",
   "execution_count": 3,
   "metadata": {},
   "outputs": [],
   "source": [
    "matrices = cooler.fileops.list_coolers(matrices_name)\n",
    "log.debug('matrices {}'.format(matrices))\n",
    "neighborhood_matrix = None\n",
    "for i, matrix in enumerate(matrices):\n",
    "    matrixFileHandlerInput = MatrixFileHandler(pFileType='cool', pMatrixFile=matrices_name+ '::' +matrix)\n",
    "    _matrix, _, _, \\\n",
    "            _, _ = matrixFileHandlerInput.load()\n",
    "\n",
    "    if neighborhood_matrix is None:\n",
    "        neighborhood_matrix = csr_matrix((len(matrices), _matrix.shape[0] * _matrix.shape[1]), dtype=int)\n",
    "\n",
    "    instances, features = _matrix.nonzero()\n",
    "\n",
    "    instances *= _matrix.shape[1]\n",
    "    instances += features\n",
    "    features = None\n",
    "    neighborhood_matrix[i, instances] = 1 #TODO this is so far wrong\n"
   ]
  },
  {
   "cell_type": "code",
   "execution_count": 4,
   "metadata": {},
   "outputs": [
    {
     "name": "stdout",
     "output_type": "stream",
     "text": [
      "  (0, 0)\t0.0\n",
      "  (0, 2)\t0.36000001430511475\n",
      "  (0, 4)\t0.13999998569488525\n",
      "  (0, 6)\t0.13999998569488525\n",
      "  (0, 9)\t0.18000000715255737\n",
      "  (0, 16)\t0.1600000262260437\n",
      "  (0, 20)\t0.25\n",
      "  (1, 1)\t0.0\n",
      "  (1, 6)\t0.25999999046325684\n",
      "  (1, 9)\t0.24000000953674316\n",
      "  (1, 13)\t0.25\n",
      "  (1, 14)\t0.23000001907348633\n",
      "  (2, 0)\t0.36000001430511475\n",
      "  (2, 2)\t0.0\n",
      "  (2, 7)\t0.3500000238418579\n",
      "  (2, 14)\t0.36000001430511475\n",
      "  (2, 16)\t0.38999998569488525\n",
      "  (3, 3)\t0.0\n",
      "  (3, 4)\t0.30000001192092896\n",
      "  (3, 13)\t0.3199999928474426\n",
      "  (3, 14)\t0.3199999928474426\n",
      "  (3, 21)\t0.3100000023841858\n",
      "  (4, 0)\t0.13999998569488525\n",
      "  (4, 3)\t0.30000001192092896\n",
      "  (4, 4)\t0.0\n",
      "  :\t:\n",
      "  (20, 4)\t0.25\n",
      "  (20, 6)\t0.23000001907348633\n",
      "  (20, 10)\t0.3100000023841858\n",
      "  (20, 18)\t0.26999998092651367\n",
      "  (20, 19)\t0.20999997854232788\n",
      "  (20, 20)\t0.0\n",
      "  (21, 3)\t0.3100000023841858\n",
      "  (21, 4)\t0.25999999046325684\n",
      "  (21, 6)\t0.17000001668930054\n",
      "  (21, 8)\t0.3399999737739563\n",
      "  (21, 14)\t0.25\n",
      "  (21, 21)\t0.0\n",
      "  (21, 23)\t0.25999999046325684\n",
      "  (22, 4)\t0.2200000286102295\n",
      "  (22, 6)\t0.19999998807907104\n",
      "  (22, 10)\t0.38999998569488525\n",
      "  (22, 14)\t0.25999999046325684\n",
      "  (22, 19)\t0.13999998569488525\n",
      "  (22, 22)\t0.0\n",
      "  (23, 4)\t0.23000001907348633\n",
      "  (23, 6)\t0.13999998569488525\n",
      "  (23, 14)\t0.2200000286102295\n",
      "  (23, 16)\t0.12000000476837158\n",
      "  (23, 21)\t0.25999999046325684\n",
      "  (23, 23)\t0.0\n"
     ]
    }
   ],
   "source": [
    "minHash = MinHash(number_of_hash_functions=400, number_of_cores=4, fast=True)\n",
    "minHash.fit(neighborhood_matrix)\n",
    "print(minHash.kneighbors_graph(mode='distance'))"
   ]
  },
  {
   "cell_type": "code",
   "execution_count": 79,
   "metadata": {},
   "outputs": [],
   "source": [
    "\n",
    "# log.debug('neighborhood_matrix {}'.format(neighborhood_matrix))\n",
    "# minHash = MinHash(number_of_hash_functions=20, number_of_cores=4)\n",
    "# minHash.fit(neighborhood_matrix)\n",
    "# print(minHash.kneighbors_graph(mode='distance'))\n",
    "# minHashDbscan = MinHashDBSCAN(number_of_hash_functions=20, number_of_cores=4)\n",
    "# # minHashClustering = MinHashClustering(minHash)\n",
    "# print(minHashDbscan.fit_predict(neighborhood_matrix))\n",
    "\n",
    "minHashSpectralClustering = MinHashSpectralClustering(n_clusters=6, number_of_hash_functions=400, number_of_cores=4,\n",
    "                                                      shingle_size=1, fast=False)\n",
    "# minHashClustering = MinHashClustering(minHash)\n",
    "# print(minHashSpectralClustering.fit_predict(neighborhood_matrix))\n",
    "labels_clustering = minHashSpectralClustering.fit_predict(neighborhood_matrix)"
   ]
  },
  {
   "cell_type": "code",
   "execution_count": 6,
   "metadata": {},
   "outputs": [
    {
     "name": "stdout",
     "output_type": "stream",
     "text": [
      "[ 0  1  2  3  4  5  4  4  6  7  8  9  4  4  4 10  4  4  4 11  4  4  4  4]\n"
     ]
    }
   ],
   "source": [
    "minHashDbscan = MinHashDBSCAN(eps=0.15, min_samples=1, number_of_hash_functions=20, number_of_cores=4, fast=True)\n",
    "# minHashClustering = MinHashClustering(minHash)\n",
    "labels_clustering = minHashDbscan.fit_predict(neighborhood_matrix)\n",
    "print(labels_clustering)"
   ]
  },
  {
   "cell_type": "code",
   "execution_count": null,
   "metadata": {},
   "outputs": [],
   "source": []
  },
  {
   "cell_type": "code",
   "execution_count": 9,
   "metadata": {},
   "outputs": [],
   "source": [
    "labels_clustering = np.delete(labels_clustering, 2)"
   ]
  },
  {
   "cell_type": "code",
   "execution_count": 10,
   "metadata": {},
   "outputs": [],
   "source": [
    "labels_clustering = np.delete(labels_clustering, 9)"
   ]
  },
  {
   "cell_type": "code",
   "execution_count": 80,
   "metadata": {},
   "outputs": [],
   "source": [
    "neighborhood_matrix_to_transform = neighborhood_matrix.todense()\n",
    "# neighborhood_matrix_to_transform = np.delete(neighborhood_matrix_to_transform, 2, 0)\n",
    "# neighborhood_matrix_to_transform = np.delete(neighborhood_matrix_to_transform, 9, 0)"
   ]
  },
  {
   "cell_type": "code",
   "execution_count": 74,
   "metadata": {},
   "outputs": [
    {
     "data": {
      "text/html": [
       "<div>\n",
       "<style scoped>\n",
       "    .dataframe tbody tr th:only-of-type {\n",
       "        vertical-align: middle;\n",
       "    }\n",
       "\n",
       "    .dataframe tbody tr th {\n",
       "        vertical-align: top;\n",
       "    }\n",
       "\n",
       "    .dataframe thead th {\n",
       "        text-align: right;\n",
       "    }\n",
       "</style>\n",
       "<table border=\"1\" class=\"dataframe\">\n",
       "  <thead>\n",
       "    <tr style=\"text-align: right;\">\n",
       "      <th></th>\n",
       "      <th>0</th>\n",
       "      <th>1</th>\n",
       "      <th>label</th>\n",
       "    </tr>\n",
       "  </thead>\n",
       "  <tbody>\n",
       "    <tr>\n",
       "      <th>0</th>\n",
       "      <td>-6.494261</td>\n",
       "      <td>-5.054365</td>\n",
       "      <td>0</td>\n",
       "    </tr>\n",
       "    <tr>\n",
       "      <th>1</th>\n",
       "      <td>-19.109188</td>\n",
       "      <td>-4.135468</td>\n",
       "      <td>1</td>\n",
       "    </tr>\n",
       "    <tr>\n",
       "      <th>2</th>\n",
       "      <td>-6.176544</td>\n",
       "      <td>-39.568903</td>\n",
       "      <td>3</td>\n",
       "    </tr>\n",
       "    <tr>\n",
       "      <th>3</th>\n",
       "      <td>-10.440783</td>\n",
       "      <td>-1.925482</td>\n",
       "      <td>4</td>\n",
       "    </tr>\n",
       "    <tr>\n",
       "      <th>4</th>\n",
       "      <td>-13.220116</td>\n",
       "      <td>3.778173</td>\n",
       "      <td>5</td>\n",
       "    </tr>\n",
       "    <tr>\n",
       "      <th>5</th>\n",
       "      <td>-12.103362</td>\n",
       "      <td>0.385126</td>\n",
       "      <td>4</td>\n",
       "    </tr>\n",
       "    <tr>\n",
       "      <th>6</th>\n",
       "      <td>2.594651</td>\n",
       "      <td>-3.568285</td>\n",
       "      <td>4</td>\n",
       "    </tr>\n",
       "    <tr>\n",
       "      <th>7</th>\n",
       "      <td>-18.258600</td>\n",
       "      <td>-2.508383</td>\n",
       "      <td>6</td>\n",
       "    </tr>\n",
       "    <tr>\n",
       "      <th>8</th>\n",
       "      <td>8.481976</td>\n",
       "      <td>-11.225348</td>\n",
       "      <td>7</td>\n",
       "    </tr>\n",
       "    <tr>\n",
       "      <th>9</th>\n",
       "      <td>-21.103685</td>\n",
       "      <td>13.364967</td>\n",
       "      <td>9</td>\n",
       "    </tr>\n",
       "    <tr>\n",
       "      <th>10</th>\n",
       "      <td>-7.549534</td>\n",
       "      <td>-3.168057</td>\n",
       "      <td>4</td>\n",
       "    </tr>\n",
       "    <tr>\n",
       "      <th>11</th>\n",
       "      <td>-8.070396</td>\n",
       "      <td>0.254961</td>\n",
       "      <td>4</td>\n",
       "    </tr>\n",
       "    <tr>\n",
       "      <th>12</th>\n",
       "      <td>-12.633382</td>\n",
       "      <td>3.602627</td>\n",
       "      <td>4</td>\n",
       "    </tr>\n",
       "    <tr>\n",
       "      <th>13</th>\n",
       "      <td>-12.072043</td>\n",
       "      <td>-0.382015</td>\n",
       "      <td>10</td>\n",
       "    </tr>\n",
       "    <tr>\n",
       "      <th>14</th>\n",
       "      <td>-15.120203</td>\n",
       "      <td>2.981542</td>\n",
       "      <td>4</td>\n",
       "    </tr>\n",
       "    <tr>\n",
       "      <th>15</th>\n",
       "      <td>-25.041330</td>\n",
       "      <td>6.491767</td>\n",
       "      <td>4</td>\n",
       "    </tr>\n",
       "    <tr>\n",
       "      <th>16</th>\n",
       "      <td>-17.578088</td>\n",
       "      <td>-9.432296</td>\n",
       "      <td>4</td>\n",
       "    </tr>\n",
       "    <tr>\n",
       "      <th>17</th>\n",
       "      <td>70.226979</td>\n",
       "      <td>127.345196</td>\n",
       "      <td>11</td>\n",
       "    </tr>\n",
       "    <tr>\n",
       "      <th>18</th>\n",
       "      <td>18.050861</td>\n",
       "      <td>-13.439313</td>\n",
       "      <td>4</td>\n",
       "    </tr>\n",
       "    <tr>\n",
       "      <th>19</th>\n",
       "      <td>-3.243198</td>\n",
       "      <td>-3.333363</td>\n",
       "      <td>4</td>\n",
       "    </tr>\n",
       "    <tr>\n",
       "      <th>20</th>\n",
       "      <td>125.057039</td>\n",
       "      <td>-68.038741</td>\n",
       "      <td>4</td>\n",
       "    </tr>\n",
       "    <tr>\n",
       "      <th>21</th>\n",
       "      <td>-16.196792</td>\n",
       "      <td>7.575658</td>\n",
       "      <td>4</td>\n",
       "    </tr>\n",
       "  </tbody>\n",
       "</table>\n",
       "</div>"
      ],
      "text/plain": [
       "             0           1  label\n",
       "0    -6.494261   -5.054365      0\n",
       "1   -19.109188   -4.135468      1\n",
       "2    -6.176544  -39.568903      3\n",
       "3   -10.440783   -1.925482      4\n",
       "4   -13.220116    3.778173      5\n",
       "5   -12.103362    0.385126      4\n",
       "6     2.594651   -3.568285      4\n",
       "7   -18.258600   -2.508383      6\n",
       "8     8.481976  -11.225348      7\n",
       "9   -21.103685   13.364967      9\n",
       "10   -7.549534   -3.168057      4\n",
       "11   -8.070396    0.254961      4\n",
       "12  -12.633382    3.602627      4\n",
       "13  -12.072043   -0.382015     10\n",
       "14  -15.120203    2.981542      4\n",
       "15  -25.041330    6.491767      4\n",
       "16  -17.578088   -9.432296      4\n",
       "17   70.226979  127.345196     11\n",
       "18   18.050861  -13.439313      4\n",
       "19   -3.243198   -3.333363      4\n",
       "20  125.057039  -68.038741      4\n",
       "21  -16.196792    7.575658      4"
      ]
     },
     "execution_count": 74,
     "metadata": {},
     "output_type": "execute_result"
    }
   ],
   "source": []
  },
  {
   "cell_type": "code",
   "execution_count": 81,
   "metadata": {},
   "outputs": [],
   "source": [
    "pca = sklearnPCA(n_components=2) #2-dimensional PCA\n",
    "transformed = pd.DataFrame(pca.fit_transform(neighborhood_matrix_to_transform))"
   ]
  },
  {
   "cell_type": "code",
   "execution_count": 82,
   "metadata": {},
   "outputs": [],
   "source": [
    "lda = LDA(n_components=2)\n",
    "lda_transformed = pd.DataFrame(lda.fit_transform(neighborhood_matrix_to_transform, labels_clustering))"
   ]
  },
  {
   "cell_type": "code",
   "execution_count": 83,
   "metadata": {},
   "outputs": [
    {
     "data": {
      "image/png": "[encoded data removed]",
      "text/plain": [
       "<Figure size 432x288 with 1 Axes>"
      ]
     },
     "metadata": {
      "needs_background": "light"
     },
     "output_type": "display_data"
    }
   ],
   "source": [
    "\n",
    "transformed['label'] = labels_clustering\n",
    "colors = ['g', 'b', 'c', 'm', 'y', 'k']\n",
    "for label in set(labels_clustering):\n",
    "    plt.scatter(transformed[transformed['label'] == label][0], transformed[transformed['label'] == label][1], label='Class '+str(label), c=colors[label%len(colors)])\n",
    "\n",
    "plt.legend()\n",
    "plt.show()"
   ]
  },
  {
   "cell_type": "code",
   "execution_count": 17,
   "metadata": {},
   "outputs": [],
   "source": [
    "lda_transformed['label'] = labels_clustering"
   ]
  },
  {
   "cell_type": "code",
   "execution_count": 84,
   "metadata": {},
   "outputs": [
    {
     "data": {
      "image/png": "[encoded data removed]",
      "text/plain": [
       "<Figure size 432x288 with 1 Axes>"
      ]
     },
     "metadata": {
      "needs_background": "light"
     },
     "output_type": "display_data"
    }
   ],
   "source": [
    "lda_transformed['label'] = labels_clustering\n",
    "colors = ['g', 'b', 'c', 'm', 'y', 'k']\n",
    "for label in set(labels_clustering):\n",
    "    plt.scatter(lda_transformed[transformed['label'] == label][0], lda_transformed[transformed['label'] == label][1], label='Class '+str(label), c=colors[label%len(colors)])\n",
    "\n",
    "plt.legend()\n",
    "plt.show()"
   ]
  },
  {
   "cell_type": "code",
   "execution_count": 20,
   "metadata": {},
   "outputs": [],
   "source": [
    "import networkx as nx"
   ]
  },
  {
   "cell_type": "code",
   "execution_count": 200,
   "metadata": {},
   "outputs": [],
   "source": [
    "minHash_graph = minHash.kneighbors_graph(mode='distance', n_neighbors=-1)"
   ]
  },
  {
   "cell_type": "code",
   "execution_count": 201,
   "metadata": {},
   "outputs": [
    {
     "data": {
      "text/plain": [
       "0.5699999928474426"
      ]
     },
     "execution_count": 201,
     "metadata": {},
     "output_type": "execute_result"
    }
   ],
   "source": [
    "minHash_graph.max()"
   ]
  },
  {
   "cell_type": "code",
   "execution_count": 203,
   "metadata": {},
   "outputs": [],
   "source": [
    "for i in range(len(minHash_graph.data)):\n",
    "    minHash_graph.data[i] = 1.0 / (1.0 + minHash_graph.data[i])\n",
    "# minHash_graph = 1.0 / (1.0 + minHash_graph)"
   ]
  },
  {
   "cell_type": "code",
   "execution_count": 64,
   "metadata": {},
   "outputs": [],
   "source": [
    "foo = minHash_graph * 100\n"
   ]
  },
  {
   "cell_type": "code",
   "execution_count": 204,
   "metadata": {},
   "outputs": [
    {
     "name": "stdout",
     "output_type": "stream",
     "text": [
      "  (0, 0)\t1.0\n",
      "  (0, 1)\t0.7575757616807607\n",
      "  (0, 2)\t0.7352941099128922\n",
      "  (0, 3)\t0.7575757616807607\n",
      "  (0, 4)\t0.8771929934634618\n",
      "  (0, 5)\t0.7352941099128922\n",
      "  (0, 6)\t0.8771929934634618\n",
      "  (0, 7)\t0.7462686713221454\n",
      "  (0, 8)\t0.6896551780836762\n",
      "  (0, 9)\t0.8474576219817888\n",
      "  (0, 10)\t0.6993006958029452\n",
      "  (0, 11)\t0.7042253438358955\n",
      "  (0, 12)\t0.7462686713221454\n",
      "  (0, 13)\t0.7812500174622987\n",
      "  (0, 14)\t0.8130081174740657\n",
      "  (0, 15)\t0.8064516067008695\n",
      "  (0, 16)\t0.8620689460270191\n",
      "  (0, 17)\t0.7751937855551518\n",
      "  (0, 18)\t0.7518797086829673\n",
      "  (0, 19)\t0.7407407276587887\n",
      "  (0, 20)\t0.8\n",
      "  (0, 21)\t0.7874015866287349\n",
      "  (0, 22)\t0.7751937855551518\n",
      "  (0, 23)\t0.7352941099128922\n",
      "  (1, 0)\t0.7575757616807607\n",
      "  :\t:\n",
      "  (22, 23)\t0.7407407276587887\n",
      "  (23, 0)\t0.7352941099128922\n",
      "  (23, 1)\t0.7407407276587887\n",
      "  (23, 2)\t0.684931516915778\n",
      "  (23, 3)\t0.7246376836632911\n",
      "  (23, 4)\t0.8130081174740657\n",
      "  (23, 5)\t0.6944444455942254\n",
      "  (23, 6)\t0.8771929934634618\n",
      "  (23, 7)\t0.7352941099128922\n",
      "  (23, 8)\t0.7352941099128922\n",
      "  (23, 9)\t0.7407407276587887\n",
      "  (23, 10)\t0.7092198449645173\n",
      "  (23, 11)\t0.6896551780836762\n",
      "  (23, 12)\t0.7633587772366495\n",
      "  (23, 13)\t0.7692307621769652\n",
      "  (23, 14)\t0.8196721119254039\n",
      "  (23, 15)\t0.7936507996578126\n",
      "  (23, 16)\t0.8928571390558262\n",
      "  (23, 17)\t0.7518797086829673\n",
      "  (23, 18)\t0.7194244678355752\n",
      "  (23, 19)\t0.684931516915778\n",
      "  (23, 20)\t0.7692307621769652\n",
      "  (23, 21)\t0.7936507996578126\n",
      "  (23, 22)\t0.7407407276587887\n",
      "  (23, 23)\t1.0\n"
     ]
    }
   ],
   "source": [
    "print(minHash_graph)"
   ]
  },
  {
   "cell_type": "code",
   "execution_count": 205,
   "metadata": {},
   "outputs": [],
   "source": [
    "G = nx.Graph(minHash_graph)"
   ]
  },
  {
   "cell_type": "code",
   "execution_count": 70,
   "metadata": {},
   "outputs": [],
   "source": [
    "pos = nx.get_node_attributes(G, 'pos')"
   ]
  },
  {
   "cell_type": "code",
   "execution_count": 87,
   "metadata": {},
   "outputs": [],
   "source": [
    "pos_graph = {}\n",
    "for i, (x, y) in enumerate(zip(transformed[0].values, transformed[1].values)):\n",
    "    pos_graph[i] = [x,y]"
   ]
  },
  {
   "cell_type": "code",
   "execution_count": 76,
   "metadata": {},
   "outputs": [
    {
     "data": {
      "text/plain": [
       "{0: [-6.494260788640289, -5.054365074193448],\n",
       " 1: [-19.109188345134875, -4.135467783308654],\n",
       " 2: [-6.176544216388012, -39.56890330882606],\n",
       " 3: [-10.440782554807253, -1.9254818055090157],\n",
       " 4: [-13.220115939321428, 3.7781725766517433],\n",
       " 5: [-12.10336187058939, 0.38512591464008905],\n",
       " 6: [2.5946508040793725, -3.5682854981642342],\n",
       " 7: [-18.258599596838124, -2.50838265318937],\n",
       " 8: [8.481975557752854, -11.225347525390044],\n",
       " 9: [-21.103684532876162, 13.364967209293196],\n",
       " 10: [-7.549534130239756, -3.1680565400751783],\n",
       " 11: [-8.070396326233496, 0.2549613833725985],\n",
       " 12: [-12.633381630785324, 3.6026267303714525],\n",
       " 13: [-12.072043401526988, -0.3820146277787765],\n",
       " 14: [-15.120203236115737, 2.9815424057289635],\n",
       " 15: [-25.041330234603745, 6.491767495882486],\n",
       " 16: [-17.578087949763354, -9.432295802397663],\n",
       " 17: [70.2269787901512, 127.34519611247863],\n",
       " 18: [18.050861412067327, -13.439313418053192],\n",
       " 19: [-3.2431981805789087, -3.3333626656697284],\n",
       " 20: [125.05703882745146, -68.03874115391513],\n",
       " 21: [-16.196792457059736, 7.575658028051535]}"
      ]
     },
     "execution_count": 76,
     "metadata": {},
     "output_type": "execute_result"
    }
   ],
   "source": []
  },
  {
   "cell_type": "code",
   "execution_count": 111,
   "metadata": {},
   "outputs": [
    {
     "data": {
      "image/png": "[encoded data removed]",
      "text/plain": [
       "<Figure size 432x288 with 1 Axes>"
      ]
     },
     "metadata": {},
     "output_type": "display_data"
    }
   ],
   "source": [
    "elarge = [(u, v) for (u, v, d) in G.edges(data=True) if d['weight'] > 85]\n",
    "# esmall = [(u, v) for (u, v, d) in G.edges(data=True) if d['weight'] <= 0.8]\n",
    "\n",
    "nx.draw_networkx_nodes(G, pos, node_size=700)\n",
    "nx.draw_networkx_edges(G, pos, edgelist=elarge,\n",
    "                       width=6)\n",
    "# nx.draw_networkx_edges(G, pos, edgelist=esmall,\n",
    "#                        width=, alpha=0.1, edge_color='b', style='dashed')\n",
    "nx.draw_networkx_labels(G, pos, font_size=20, font_family='sans-serif')\n",
    "\n",
    "plt.axis('off')\n",
    "plt.show()"
   ]
  },
  {
   "cell_type": "code",
   "execution_count": 179,
   "metadata": {},
   "outputs": [
    {
     "data": {
      "text/plain": [
       "<networkx.classes.graph.Graph at 0x7f4618511dd8>"
      ]
     },
     "execution_count": 179,
     "metadata": {},
     "output_type": "execute_result"
    }
   ],
   "source": [
    "G"
   ]
  },
  {
   "cell_type": "code",
   "execution_count": 206,
   "metadata": {},
   "outputs": [
    {
     "data": {
      "text/plain": [
       "[(0, 25),\n",
       " (1, 25),\n",
       " (2, 25),\n",
       " (3, 25),\n",
       " (4, 25),\n",
       " (5, 25),\n",
       " (6, 25),\n",
       " (7, 25),\n",
       " (8, 25),\n",
       " (9, 25),\n",
       " (10, 25),\n",
       " (11, 25),\n",
       " (12, 25),\n",
       " (13, 25),\n",
       " (14, 25),\n",
       " (15, 25),\n",
       " (16, 25),\n",
       " (17, 25),\n",
       " (18, 25),\n",
       " (19, 25),\n",
       " (20, 25),\n",
       " (21, 25),\n",
       " (22, 25),\n",
       " (23, 25)]"
      ]
     },
     "execution_count": 206,
     "metadata": {},
     "output_type": "execute_result"
    }
   ],
   "source": [
    "sorted(G.degree, key=lambda x: x[1], reverse=True)"
   ]
  },
  {
   "cell_type": "code",
   "execution_count": 229,
   "metadata": {},
   "outputs": [],
   "source": [
    "max_degree = sorted(elarge, key=lambda x: x[1], reverse=True)"
   ]
  },
  {
   "cell_type": "code",
   "execution_count": 230,
   "metadata": {},
   "outputs": [
    {
     "data": {
      "text/plain": [
       "[(4, 23),\n",
       " (6, 23),\n",
       " (14, 23),\n",
       " (16, 23),\n",
       " (23, 23),\n",
       " (4, 22),\n",
       " (6, 22),\n",
       " (19, 22),\n",
       " (22, 22),\n",
       " (6, 21),\n",
       " (21, 21),\n",
       " (6, 20),\n",
       " (19, 20),\n",
       " (20, 20),\n",
       " (19, 19),\n",
       " (4, 18),\n",
       " (6, 18),\n",
       " (13, 18),\n",
       " (18, 18),\n",
       " (4, 17),\n",
       " (6, 17),\n",
       " (16, 17),\n",
       " (17, 17),\n",
       " (0, 16),\n",
       " (6, 16),\n",
       " (9, 16),\n",
       " (13, 16),\n",
       " (14, 16),\n",
       " (15, 16),\n",
       " (16, 16),\n",
       " (0, 15),\n",
       " (4, 15),\n",
       " (6, 15),\n",
       " (7, 15),\n",
       " (12, 15),\n",
       " (13, 15),\n",
       " (14, 15),\n",
       " (15, 15),\n",
       " (0, 14),\n",
       " (1, 14),\n",
       " (4, 14),\n",
       " (6, 14),\n",
       " (7, 14),\n",
       " (9, 14),\n",
       " (13, 14),\n",
       " (14, 14),\n",
       " (4, 13),\n",
       " (6, 13),\n",
       " (12, 13),\n",
       " (13, 13),\n",
       " (12, 12),\n",
       " (11, 11),\n",
       " (10, 10),\n",
       " (0, 9),\n",
       " (1, 9),\n",
       " (4, 9),\n",
       " (9, 9),\n",
       " (8, 8),\n",
       " (6, 7),\n",
       " (7, 7),\n",
       " (0, 6),\n",
       " (4, 6),\n",
       " (6, 6),\n",
       " (5, 5),\n",
       " (0, 4),\n",
       " (4, 4),\n",
       " (3, 3),\n",
       " (2, 2),\n",
       " (1, 1),\n",
       " (0, 0)]"
      ]
     },
     "execution_count": 230,
     "metadata": {},
     "output_type": "execute_result"
    }
   ],
   "source": [
    "max_degree"
   ]
  },
  {
   "cell_type": "code",
   "execution_count": 209,
   "metadata": {},
   "outputs": [],
   "source": [
    "p = dict(nx.single_source_shortest_path_length(G, max_degree))"
   ]
  },
  {
   "cell_type": "code",
   "execution_count": 213,
   "metadata": {},
   "outputs": [],
   "source": [
    "elarge = [(u, v) for (u, v, d) in G.edges(data=True) if d['weight'] > 0.8]"
   ]
  },
  {
   "cell_type": "code",
   "execution_count": 218,
   "metadata": {},
   "outputs": [
    {
     "data": {
      "text/plain": [
       "[(0, 0),\n",
       " (0, 4),\n",
       " (0, 6),\n",
       " (0, 9),\n",
       " (0, 14),\n",
       " (0, 15),\n",
       " (0, 16),\n",
       " (1, 1),\n",
       " (1, 9),\n",
       " (1, 14),\n",
       " (2, 2),\n",
       " (3, 3),\n",
       " (4, 4),\n",
       " (4, 6),\n",
       " (4, 9),\n",
       " (4, 13),\n",
       " (4, 14),\n",
       " (4, 15),\n",
       " (4, 17),\n",
       " (4, 18),\n",
       " (4, 22),\n",
       " (4, 23),\n",
       " (5, 5),\n",
       " (6, 6),\n",
       " (6, 7),\n",
       " (6, 13),\n",
       " (6, 14),\n",
       " (6, 15),\n",
       " (6, 16),\n",
       " (6, 17),\n",
       " (6, 18),\n",
       " (6, 20),\n",
       " (6, 21),\n",
       " (6, 22),\n",
       " (6, 23),\n",
       " (7, 7),\n",
       " (7, 14),\n",
       " (7, 15),\n",
       " (8, 8),\n",
       " (9, 9),\n",
       " (9, 14),\n",
       " (9, 16),\n",
       " (10, 10),\n",
       " (11, 11),\n",
       " (12, 12),\n",
       " (12, 13),\n",
       " (12, 15),\n",
       " (13, 13),\n",
       " (13, 14),\n",
       " (13, 15),\n",
       " (13, 16),\n",
       " (13, 18),\n",
       " (14, 14),\n",
       " (14, 15),\n",
       " (14, 16),\n",
       " (14, 23),\n",
       " (15, 15),\n",
       " (15, 16),\n",
       " (16, 16),\n",
       " (16, 17),\n",
       " (16, 23),\n",
       " (17, 17),\n",
       " (18, 18),\n",
       " (19, 19),\n",
       " (19, 20),\n",
       " (19, 22),\n",
       " (20, 20),\n",
       " (21, 21),\n",
       " (22, 22),\n",
       " (23, 23)]"
      ]
     },
     "execution_count": 218,
     "metadata": {},
     "output_type": "execute_result"
    }
   ],
   "source": []
  },
  {
   "cell_type": "code",
   "execution_count": 217,
   "metadata": {},
   "outputs": [
    {
     "data": {
      "image/png": "[encoded data removed]",
      "text/plain": [
       "<Figure size 576x576 with 1 Axes>"
      ]
     },
     "metadata": {},
     "output_type": "display_data"
    }
   ],
   "source": [
    "pos = nx.spring_layout(G, k=1)\n",
    "plt.figure(figsize=(8, 8))\n",
    "nx.draw_networkx_edges(G, pos, nodelist=[0], edgelist=elarge, alpha=0.4)\n",
    "nx.draw_networkx_nodes(G, pos, nodelist=list(p.keys()), \n",
    "                       node_size=80,\n",
    "                       node_color=list(p.values()),\n",
    "                       cmap=plt.cm.gist_rainbow)\n",
    "\n",
    "# plt.xlim(-0.05, 1.05)\n",
    "# plt.ylim(-0.05, 1.05)\n",
    "plt.axis('off')\n",
    "plt.show()"
   ]
  },
  {
   "cell_type": "code",
   "execution_count": 73,
   "metadata": {},
   "outputs": [
    {
     "data": {
      "text/plain": [
       "{0: array([-0.24082231,  0.77068295]),\n",
       " 1: array([0.27416748, 0.58949881]),\n",
       " 2: array([0.04844668, 0.30211413]),\n",
       " 3: array([ 0.09191606, -0.70077486]),\n",
       " 4: array([-0.32252419, -0.00370107]),\n",
       " 5: array([ 0.700523  , -0.33529183]),\n",
       " 6: array([-0.13912632, -0.04172114]),\n",
       " 7: array([-0.08214563, -0.46397915]),\n",
       " 8: array([ 0.81845891, -0.0139176 ]),\n",
       " 9: array([0.26065746, 0.85940449]),\n",
       " 10: array([-0.60047444, -0.33596469]),\n",
       " 11: array([-0.88984783,  0.03829103]),\n",
       " 12: array([ 1.        , -0.16548096]),\n",
       " 13: array([0.28134792, 0.04579349]),\n",
       " 14: array([ 0.08529683, -0.18301014]),\n",
       " 15: array([ 0.57347699, -0.65178043]),\n",
       " 16: array([0.48943445, 0.41297402]),\n",
       " 17: array([-0.35568475,  0.40068086]),\n",
       " 18: array([-0.64694733,  0.61249802]),\n",
       " 19: array([-0.84965178, -0.30529582]),\n",
       " 20: array([-0.83321372,  0.29475663]),\n",
       " 21: array([ 0.37934506, -0.43545685]),\n",
       " 22: array([-0.57091808, -0.67796289]),\n",
       " 23: array([ 0.52828555, -0.01235699])}"
      ]
     },
     "execution_count": 73,
     "metadata": {},
     "output_type": "execute_result"
    }
   ],
   "source": [
    "pos"
   ]
  },
  {
   "cell_type": "code",
   "execution_count": 13,
   "metadata": {},
   "outputs": [],
   "source": [
    "import matplotlib.pyplot as plt\n",
    "import pandas as pd\n",
    "\n",
    "from sklearn.decomposition import PCA as sklearnPCA\n",
    "from sklearn.discriminant_analysis import LinearDiscriminantAnalysis as LDA\n",
    "from sklearn.datasets.samples_generator import make_blobs\n",
    "\n",
    "# from pandas.tools.plotting import parallel_coordinates"
   ]
  },
  {
   "cell_type": "code",
   "execution_count": 11,
   "metadata": {},
   "outputs": [],
   "source": [
    "X, y = make_blobs(n_samples=200, centers=3, n_features=2, random_state=0)\n"
   ]
  },
  {
   "cell_type": "code",
   "execution_count": 14,
   "metadata": {},
   "outputs": [
    {
     "data": {
      "image/png": "[encoded data removed]",
      "text/plain": [
       "<Figure size 432x288 with 1 Axes>"
      ]
     },
     "metadata": {
      "needs_background": "light"
     },
     "output_type": "display_data"
    }
   ],
   "source": [
    "plt.scatter(X[:,0], X[:,1], c=y)\n",
    "plt.show()"
   ]
  },
  {
   "cell_type": "code",
   "execution_count": 15,
   "metadata": {},
   "outputs": [],
   "source": [
    "url = 'https://archive.ics.uci.edu/ml/machine-learning-databases/wine/wine.data'\n",
    "cols =  ['Class', 'Alcohol', 'MalicAcid', 'Ash', 'AlcalinityOfAsh', 'Magnesium', 'TotalPhenols', \n",
    "         'Flavanoids', 'NonflavanoidPhenols', 'Proanthocyanins', 'ColorIntensity', \n",
    "         'Hue', 'OD280/OD315', 'Proline']\n",
    "data = pd.read_csv(url, names=cols)\n",
    "\n",
    "y = data['Class']          # Split off classifications\n",
    "X = data.ix[:, 'Alcohol':] # Split off features"
   ]
  },
  {
   "cell_type": "code",
   "execution_count": 17,
   "metadata": {},
   "outputs": [
    {
     "data": {
      "image/png": "[encoded data removed]",
      "text/plain": [
       "<Figure size 432x288 with 1 Axes>"
      ]
     },
     "metadata": {
      "needs_background": "light"
     },
     "output_type": "display_data"
    }
   ],
   "source": [
    "# three different scatter series so the class labels in the legend are distinct\n",
    "plt.scatter(X[y==1]['Flavanoids'], X[y==1]['NonflavanoidPhenols'], label='Class 1', c='red')\n",
    "plt.scatter(X[y==2]['Flavanoids'], X[y==2]['NonflavanoidPhenols'], label='Class 2', c='blue')\n",
    "plt.scatter(X[y==3]['Flavanoids'], X[y==3]['NonflavanoidPhenols'], label='Class 3', c='lightgreen')\n",
    "\n",
    "# Prettify the graph\n",
    "plt.legend()\n",
    "plt.xlabel('Flavanoids')\n",
    "plt.ylabel('NonflavanoidPhenols')\n",
    "\n",
    "# display\n",
    "plt.show()"
   ]
  },
  {
   "cell_type": "code",
   "execution_count": 26,
   "metadata": {},
   "outputs": [],
   "source": [
    "X_norm = (neighborhood_matrix - neighborhood_matrix.min())/(neighborhood_matrix.max() - neighborhood_matrix.min())\n"
   ]
  },
  {
   "cell_type": "code",
   "execution_count": 30,
   "metadata": {},
   "outputs": [
    {
     "data": {
      "text/plain": [
       "<24x7529536 sparse matrix of type '<class 'numpy.float64'>'\n",
       "\twith 650322 stored elements in Compressed Sparse Row format>"
      ]
     },
     "execution_count": 30,
     "metadata": {},
     "output_type": "execute_result"
    }
   ],
   "source": [
    "X_norm"
   ]
  },
  {
   "cell_type": "code",
   "execution_count": 31,
   "metadata": {},
   "outputs": [],
   "source": [
    "import numpy as np"
   ]
  },
  {
   "cell_type": "code",
   "execution_count": 33,
   "metadata": {},
   "outputs": [],
   "source": [
    "corrmatrix = np.cov(X_norm.todense())"
   ]
  },
  {
   "cell_type": "code",
   "execution_count": null,
   "metadata": {},
   "outputs": [],
   "source": []
  },
  {
   "cell_type": "code",
   "execution_count": 35,
   "metadata": {},
   "outputs": [],
   "source": [
    "pca = sklearnPCA(n_components=2) #2-dimensional PCA\n",
    "transformed = pd.DataFrame(pca.fit_transform(X_norm.todense()))\n"
   ]
  },
  {
   "cell_type": "code",
   "execution_count": 42,
   "metadata": {},
   "outputs": [],
   "source": [
    "transformed['label'] = labels_clustering"
   ]
  },
  {
   "cell_type": "code",
   "execution_count": 43,
   "metadata": {},
   "outputs": [
    {
     "data": {
      "text/html": [
       "<div>\n",
       "<style scoped>\n",
       "    .dataframe tbody tr th:only-of-type {\n",
       "        vertical-align: middle;\n",
       "    }\n",
       "\n",
       "    .dataframe tbody tr th {\n",
       "        vertical-align: top;\n",
       "    }\n",
       "\n",
       "    .dataframe thead th {\n",
       "        text-align: right;\n",
       "    }\n",
       "</style>\n",
       "<table border=\"1\" class=\"dataframe\">\n",
       "  <thead>\n",
       "    <tr style=\"text-align: right;\">\n",
       "      <th></th>\n",
       "      <th>0</th>\n",
       "      <th>1</th>\n",
       "      <th>label</th>\n",
       "    </tr>\n",
       "  </thead>\n",
       "  <tbody>\n",
       "    <tr>\n",
       "      <th>0</th>\n",
       "      <td>-6.887874</td>\n",
       "      <td>-7.651270</td>\n",
       "      <td>1</td>\n",
       "    </tr>\n",
       "    <tr>\n",
       "      <th>1</th>\n",
       "      <td>-8.994270</td>\n",
       "      <td>-10.143428</td>\n",
       "      <td>6</td>\n",
       "    </tr>\n",
       "    <tr>\n",
       "      <th>2</th>\n",
       "      <td>-50.677353</td>\n",
       "      <td>163.532528</td>\n",
       "      <td>1</td>\n",
       "    </tr>\n",
       "    <tr>\n",
       "      <th>3</th>\n",
       "      <td>-3.620040</td>\n",
       "      <td>-12.174433</td>\n",
       "      <td>2</td>\n",
       "    </tr>\n",
       "    <tr>\n",
       "      <th>4</th>\n",
       "      <td>-7.189306</td>\n",
       "      <td>-7.201640</td>\n",
       "      <td>1</td>\n",
       "    </tr>\n",
       "    <tr>\n",
       "      <th>5</th>\n",
       "      <td>-9.165578</td>\n",
       "      <td>-8.202448</td>\n",
       "      <td>1</td>\n",
       "    </tr>\n",
       "    <tr>\n",
       "      <th>6</th>\n",
       "      <td>-7.713749</td>\n",
       "      <td>-7.841100</td>\n",
       "      <td>1</td>\n",
       "    </tr>\n",
       "    <tr>\n",
       "      <th>7</th>\n",
       "      <td>-4.086945</td>\n",
       "      <td>-10.426627</td>\n",
       "      <td>3</td>\n",
       "    </tr>\n",
       "    <tr>\n",
       "      <th>8</th>\n",
       "      <td>-8.314678</td>\n",
       "      <td>-11.650242</td>\n",
       "      <td>1</td>\n",
       "    </tr>\n",
       "    <tr>\n",
       "      <th>9</th>\n",
       "      <td>-0.303515</td>\n",
       "      <td>-10.136707</td>\n",
       "      <td>7</td>\n",
       "    </tr>\n",
       "    <tr>\n",
       "      <th>10</th>\n",
       "      <td>170.707546</td>\n",
       "      <td>42.414472</td>\n",
       "      <td>4</td>\n",
       "    </tr>\n",
       "    <tr>\n",
       "      <th>11</th>\n",
       "      <td>-5.480443</td>\n",
       "      <td>-11.948401</td>\n",
       "      <td>4</td>\n",
       "    </tr>\n",
       "    <tr>\n",
       "      <th>12</th>\n",
       "      <td>-6.922021</td>\n",
       "      <td>-7.518085</td>\n",
       "      <td>0</td>\n",
       "    </tr>\n",
       "    <tr>\n",
       "      <th>13</th>\n",
       "      <td>-6.860229</td>\n",
       "      <td>-7.051226</td>\n",
       "      <td>1</td>\n",
       "    </tr>\n",
       "    <tr>\n",
       "      <th>14</th>\n",
       "      <td>-7.888730</td>\n",
       "      <td>-7.723777</td>\n",
       "      <td>6</td>\n",
       "    </tr>\n",
       "    <tr>\n",
       "      <th>15</th>\n",
       "      <td>-7.877275</td>\n",
       "      <td>-6.801005</td>\n",
       "      <td>1</td>\n",
       "    </tr>\n",
       "    <tr>\n",
       "      <th>16</th>\n",
       "      <td>-7.204750</td>\n",
       "      <td>-7.200738</td>\n",
       "      <td>1</td>\n",
       "    </tr>\n",
       "    <tr>\n",
       "      <th>17</th>\n",
       "      <td>-8.128342</td>\n",
       "      <td>-8.991479</td>\n",
       "      <td>1</td>\n",
       "    </tr>\n",
       "    <tr>\n",
       "      <th>18</th>\n",
       "      <td>-9.100877</td>\n",
       "      <td>-10.258092</td>\n",
       "      <td>5</td>\n",
       "    </tr>\n",
       "    <tr>\n",
       "      <th>19</th>\n",
       "      <td>1.889327</td>\n",
       "      <td>-14.111817</td>\n",
       "      <td>7</td>\n",
       "    </tr>\n",
       "    <tr>\n",
       "      <th>20</th>\n",
       "      <td>-1.246441</td>\n",
       "      <td>-11.609562</td>\n",
       "      <td>7</td>\n",
       "    </tr>\n",
       "    <tr>\n",
       "      <th>21</th>\n",
       "      <td>-5.795965</td>\n",
       "      <td>-8.391718</td>\n",
       "      <td>5</td>\n",
       "    </tr>\n",
       "    <tr>\n",
       "      <th>22</th>\n",
       "      <td>10.146211</td>\n",
       "      <td>-9.358840</td>\n",
       "      <td>1</td>\n",
       "    </tr>\n",
       "    <tr>\n",
       "      <th>23</th>\n",
       "      <td>-9.284706</td>\n",
       "      <td>-9.554364</td>\n",
       "      <td>1</td>\n",
       "    </tr>\n",
       "  </tbody>\n",
       "</table>\n",
       "</div>"
      ],
      "text/plain": [
       "             0           1  label\n",
       "0    -6.887874   -7.651270      1\n",
       "1    -8.994270  -10.143428      6\n",
       "2   -50.677353  163.532528      1\n",
       "3    -3.620040  -12.174433      2\n",
       "4    -7.189306   -7.201640      1\n",
       "5    -9.165578   -8.202448      1\n",
       "6    -7.713749   -7.841100      1\n",
       "7    -4.086945  -10.426627      3\n",
       "8    -8.314678  -11.650242      1\n",
       "9    -0.303515  -10.136707      7\n",
       "10  170.707546   42.414472      4\n",
       "11   -5.480443  -11.948401      4\n",
       "12   -6.922021   -7.518085      0\n",
       "13   -6.860229   -7.051226      1\n",
       "14   -7.888730   -7.723777      6\n",
       "15   -7.877275   -6.801005      1\n",
       "16   -7.204750   -7.200738      1\n",
       "17   -8.128342   -8.991479      1\n",
       "18   -9.100877  -10.258092      5\n",
       "19    1.889327  -14.111817      7\n",
       "20   -1.246441  -11.609562      7\n",
       "21   -5.795965   -8.391718      5\n",
       "22   10.146211   -9.358840      1\n",
       "23   -9.284706   -9.554364      1"
      ]
     },
     "execution_count": 43,
     "metadata": {},
     "output_type": "execute_result"
    }
   ],
   "source": [
    "transformed"
   ]
  },
  {
   "cell_type": "code",
   "execution_count": 48,
   "metadata": {},
   "outputs": [
    {
     "data": {
      "text/plain": [
       "0      -7.651270\n",
       "2     163.532528\n",
       "4      -7.201640\n",
       "5      -8.202448\n",
       "6      -7.841100\n",
       "8     -11.650242\n",
       "13     -7.051226\n",
       "15     -6.801005\n",
       "16     -7.200738\n",
       "17     -8.991479\n",
       "22     -9.358840\n",
       "23     -9.554364\n",
       "Name: 1, dtype: float64"
      ]
     },
     "execution_count": 48,
     "metadata": {},
     "output_type": "execute_result"
    }
   ],
   "source": [
    "transformed[transformed['label'] == 1][1]"
   ]
  },
  {
   "cell_type": "code",
   "execution_count": 24,
   "metadata": {},
   "outputs": [
    {
     "data": {
      "text/plain": [
       "array([[-7.06335756e-01, -2.53192753e-01],\n",
       "       [-4.84976802e-01, -8.82289142e-03],\n",
       "       [-5.21172266e-01, -1.89187222e-01],\n",
       "       [-8.21643663e-01, -5.80905512e-01],\n",
       "       [-2.02546382e-01, -5.94665740e-02],\n",
       "       [-6.08190152e-01, -4.87519191e-01],\n",
       "       [-5.44047399e-01, -3.00196497e-01],\n",
       "       [-4.74357495e-01, -2.98197021e-01],\n",
       "       [-5.00432012e-01, -3.07602859e-01],\n",
       "       [-6.27517969e-01, -2.06328233e-01],\n",
       "       [-7.27467157e-01, -3.56512044e-01],\n",
       "       [-3.74967744e-01, -2.25424535e-01],\n",
       "       [-4.48188283e-01, -2.31938139e-01],\n",
       "       [-6.26345329e-01, -3.55138677e-01],\n",
       "       [-8.35717011e-01, -5.38047802e-01],\n",
       "       [-4.71931568e-01, -3.37405385e-01],\n",
       "       [-4.26990905e-01, -4.50842684e-01],\n",
       "       [-3.66595704e-01, -3.15750341e-01],\n",
       "       [-7.18788533e-01, -5.93881332e-01],\n",
       "       [-4.58884986e-01, -1.75782240e-01],\n",
       "       [-6.61852288e-01, -1.27831032e-01],\n",
       "       [-2.67900032e-01,  9.81127565e-03],\n",
       "       [-5.99782399e-01,  7.82494523e-04],\n",
       "       [-4.17894800e-01,  1.13786901e-01],\n",
       "       [-4.49940392e-01,  9.83771974e-02],\n",
       "       [-2.15787795e-01,  9.26270331e-03],\n",
       "       [-4.15531996e-01, -1.55470385e-01],\n",
       "       [-2.83946970e-01, -8.97364262e-02],\n",
       "       [-4.75099227e-01, -8.80516479e-02],\n",
       "       [-5.14396469e-01, -1.04602502e-01],\n",
       "       [-5.20965812e-01, -2.58430884e-01],\n",
       "       [-5.75738233e-01, -3.61155788e-01],\n",
       "       [-3.02144639e-01, -5.14943064e-02],\n",
       "       [-3.67021971e-01, -2.68616630e-01],\n",
       "       [-3.03022468e-01, -1.21413202e-01],\n",
       "       [-4.58338878e-01, -3.03098822e-02],\n",
       "       [-2.71566325e-01, -7.61238406e-02],\n",
       "       [-2.32004189e-01, -5.03302763e-02],\n",
       "       [-3.05480403e-01,  6.16775563e-02],\n",
       "       [-5.19605033e-01, -3.13830061e-01],\n",
       "       [-5.30575114e-01, -1.29536623e-01],\n",
       "       [-1.87044526e-01, -1.24830306e-01],\n",
       "       [-7.05508197e-01, -2.36951582e-01],\n",
       "       [-1.11517299e-01, -6.93158637e-02],\n",
       "       [-4.67360652e-01, -4.17305795e-03],\n",
       "       [-2.90122801e-01, -3.67221063e-01],\n",
       "       [-5.83259370e-01, -3.09000481e-01],\n",
       "       [-6.20279029e-01, -1.93810631e-01],\n",
       "       [-3.94822370e-01, -2.93598970e-01],\n",
       "       [-5.59620161e-01, -4.08270579e-01],\n",
       "       [-6.31721343e-01, -1.53075104e-01],\n",
       "       [-6.19429907e-01, -1.89577074e-01],\n",
       "       [-7.31057466e-01, -3.52882173e-01],\n",
       "       [-4.46372391e-01, -3.75445367e-01],\n",
       "       [-4.72271686e-01, -2.17583775e-01],\n",
       "       [-5.26519475e-01, -2.47353412e-01],\n",
       "       [-5.80922838e-01, -2.96118382e-01],\n",
       "       [-4.56499660e-01, -2.54172861e-01],\n",
       "       [-6.68673306e-01, -3.73626692e-01],\n",
       "       [ 2.36612131e-01,  4.15897679e-01],\n",
       "       [ 4.11083017e-01,  2.39042056e-01],\n",
       "       [ 4.53466145e-01,  1.15387043e-01],\n",
       "       [-1.02908723e-02,  1.44058312e-01],\n",
       "       [-4.53680708e-01,  3.58591310e-01],\n",
       "       [ 1.85889069e-01,  4.31970612e-01],\n",
       "       [-1.32514400e-01,  1.77025232e-01],\n",
       "       [-4.81660733e-01,  2.48221509e-01],\n",
       "       [-1.37359790e-01,  4.31281611e-01],\n",
       "       [ 2.20157829e-01,  2.60739073e-02],\n",
       "       [-3.45031544e-01,  3.16134486e-01],\n",
       "       [ 3.67943408e-01,  1.55916428e-01],\n",
       "       [-4.08324351e-01,  2.21997603e-01],\n",
       "       [ 7.54211315e-02,  1.96129620e-01],\n",
       "       [-5.99276557e-01,  8.58331792e-02],\n",
       "       [-4.59562261e-01,  2.77406318e-01],\n",
       "       [ 2.31860903e-01,  4.39499276e-01],\n",
       "       [-6.49397655e-02,  3.10816394e-01],\n",
       "       [ 3.23736371e-01,  3.22191312e-01],\n",
       "       [-1.33928622e-01,  1.67857293e-01],\n",
       "       [-8.63464614e-02,  2.50941891e-01],\n",
       "       [-1.87477316e-01,  6.49776372e-01],\n",
       "       [-2.53589040e-01,  2.49115557e-01],\n",
       "       [ 6.45922121e-02,  4.87258389e-01],\n",
       "       [ 5.68567489e-01, -2.72502414e-03],\n",
       "       [-2.07555330e-01,  3.83332423e-01],\n",
       "       [-1.84826649e-01,  4.18166208e-01],\n",
       "       [ 1.94604609e-01,  4.44698701e-01],\n",
       "       [ 4.97903090e-02,  5.58265148e-01],\n",
       "       [ 2.01995378e-01,  3.91867103e-01],\n",
       "       [ 2.60011770e-02,  5.20397483e-01],\n",
       "       [ 3.20777030e-01,  4.07964175e-01],\n",
       "       [ 3.21433432e-01,  4.14255535e-01],\n",
       "       [ 4.41539233e-01,  2.80747043e-01],\n",
       "       [-1.83814799e-01,  4.70714917e-01],\n",
       "       [-2.34623773e-01,  4.82068800e-01],\n",
       "       [-3.98762991e-01,  6.68359472e-02],\n",
       "       [ 1.32311032e-01,  2.33219802e-01],\n",
       "       [-2.03237436e-01,  4.46450045e-01],\n",
       "       [-4.91302147e-01,  2.39224247e-01],\n",
       "       [-2.22211504e-01,  4.05617951e-01],\n",
       "       [-1.78415144e-01,  3.83375676e-01],\n",
       "       [ 8.82037061e-02,  3.91561686e-01],\n",
       "       [-4.59627898e-02,  3.16898298e-01],\n",
       "       [ 1.27165257e-01,  4.86899646e-01],\n",
       "       [-1.68359803e-01,  3.79932119e-01],\n",
       "       [ 3.34941838e-01,  4.01936155e-01],\n",
       "       [ 3.08559770e-02,  4.12679142e-01],\n",
       "       [ 3.31338297e-01,  2.69832520e-01],\n",
       "       [-3.25248675e-02,  4.59852304e-01],\n",
       "       [-3.63261832e-01,  3.91179206e-01],\n",
       "       [-2.58928676e-01,  2.82827496e-01],\n",
       "       [ 1.22122333e-03,  3.83225395e-01],\n",
       "       [ 3.11152099e-01,  2.70193984e-01],\n",
       "       [ 9.92201563e-02,  5.07021835e-01],\n",
       "       [ 1.87326999e-02,  4.56899550e-01],\n",
       "       [-6.13720074e-02,  7.77543093e-01],\n",
       "       [-2.53109370e-02,  5.59167632e-01],\n",
       "       [ 1.25729314e-03,  4.42898174e-01],\n",
       "       [ 5.12737594e-01,  1.71179320e-01],\n",
       "       [ 9.10642272e-02,  4.11366678e-01],\n",
       "       [-2.20708758e-01,  3.59648556e-01],\n",
       "       [-3.57855636e-01,  2.43309637e-01],\n",
       "       [ 1.96736866e-01,  2.68406268e-01],\n",
       "       [ 4.66832534e-02,  1.02594073e-01],\n",
       "       [-2.76379590e-01,  3.48247689e-01],\n",
       "       [-5.80494972e-02,  4.43300887e-01],\n",
       "       [-5.61569953e-02,  2.89123497e-01],\n",
       "       [ 3.18351542e-01,  3.69040098e-01],\n",
       "       [ 6.16894441e-02,  4.30372899e-01],\n",
       "       [ 3.35113252e-01,  2.33117539e-01],\n",
       "       [ 3.38878410e-01, -1.63054182e-02],\n",
       "       [ 5.25473386e-01, -6.85182058e-02],\n",
       "       [ 6.10608687e-01, -3.87597325e-02],\n",
       "       [ 4.70503301e-01, -7.80055196e-02],\n",
       "       [ 5.59522391e-01,  4.55607505e-02],\n",
       "       [ 7.00887626e-01, -1.05783625e-01],\n",
       "       [ 8.68367098e-01, -4.07280841e-02],\n",
       "       [ 8.62780923e-01, -7.82006550e-02],\n",
       "       [ 6.83749542e-01, -1.33888807e-01],\n",
       "       [ 4.90719365e-01,  5.56742597e-04],\n",
       "       [ 5.69453098e-01,  5.36461511e-03],\n",
       "       [ 4.24677352e-01, -9.95305796e-02],\n",
       "       [ 6.15620030e-01, -4.77516359e-02],\n",
       "       [ 5.22173329e-01, -1.38443762e-01],\n",
       "       [ 4.77614572e-01, -2.27298230e-01],\n",
       "       [ 5.79679657e-01, -1.57739251e-01],\n",
       "       [ 9.15216446e-01, -2.14231373e-01],\n",
       "       [ 7.36788844e-01, -2.52267555e-01],\n",
       "       [ 6.03862841e-01, -3.27962913e-01],\n",
       "       [ 6.54244135e-01, -3.78555154e-01],\n",
       "       [ 5.20842263e-01, -3.83062058e-01],\n",
       "       [ 5.49621418e-01, -3.34917377e-01],\n",
       "       [ 4.06086595e-01, -1.90280414e-01],\n",
       "       [ 6.67875156e-01, -4.47135704e-01],\n",
       "       [ 6.26785798e-01, -8.89615490e-02],\n",
       "       [ 8.17055087e-01, -3.91798468e-01],\n",
       "       [ 6.50979872e-01, -4.12211745e-01],\n",
       "       [ 7.13430627e-01, -2.04371473e-01],\n",
       "       [ 2.56575999e-01, -6.45305842e-01],\n",
       "       [ 3.73642517e-01, -4.43532276e-01],\n",
       "       [ 6.75012039e-01, -1.43459280e-01],\n",
       "       [ 5.17484679e-01, -2.29187276e-01],\n",
       "       [ 6.26069565e-01, -4.62805195e-02],\n",
       "       [ 5.79008532e-01, -1.39074816e-01],\n",
       "       [ 6.24375675e-01, -3.48868312e-01],\n",
       "       [ 7.66349788e-01, -2.23018532e-01],\n",
       "       [ 5.63011192e-01, -4.76565598e-01],\n",
       "       [ 6.24388906e-01, -2.88769367e-01],\n",
       "       [ 4.72514206e-01, -3.60781032e-01],\n",
       "       [ 4.82393361e-01, -4.15988803e-01],\n",
       "       [ 6.79182280e-01,  6.57518884e-02],\n",
       "       [ 7.74530367e-01, -1.81913660e-01],\n",
       "       [ 5.37656394e-01, -4.62404696e-01],\n",
       "       [ 7.39509503e-01, -4.71901149e-01],\n",
       "       [ 5.81781139e-01, -3.48365752e-01],\n",
       "       [ 6.26312888e-01, -5.46857013e-01],\n",
       "       [ 5.72991102e-01, -4.25516087e-01],\n",
       "       [ 7.01763997e-01, -5.13504983e-01]])"
      ]
     },
     "execution_count": 24,
     "metadata": {},
     "output_type": "execute_result"
    }
   ],
   "source": [
    "pca.fit_transform(X_norm)"
   ]
  },
  {
   "cell_type": "code",
   "execution_count": 41,
   "metadata": {},
   "outputs": [
    {
     "data": {
      "text/html": [
       "<div>\n",
       "<style scoped>\n",
       "    .dataframe tbody tr th:only-of-type {\n",
       "        vertical-align: middle;\n",
       "    }\n",
       "\n",
       "    .dataframe tbody tr th {\n",
       "        vertical-align: top;\n",
       "    }\n",
       "\n",
       "    .dataframe thead th {\n",
       "        text-align: right;\n",
       "    }\n",
       "</style>\n",
       "<table border=\"1\" class=\"dataframe\">\n",
       "  <thead>\n",
       "    <tr style=\"text-align: right;\">\n",
       "      <th></th>\n",
       "      <th>0</th>\n",
       "      <th>1</th>\n",
       "    </tr>\n",
       "  </thead>\n",
       "  <tbody>\n",
       "  </tbody>\n",
       "</table>\n",
       "</div>"
      ],
      "text/plain": [
       "Empty DataFrame\n",
       "Columns: [0, 1]\n",
       "Index: []"
      ]
     },
     "execution_count": 41,
     "metadata": {},
     "output_type": "execute_result"
    }
   ],
   "source": []
  },
  {
   "cell_type": "code",
   "execution_count": 51,
   "metadata": {},
   "outputs": [
    {
     "data": {
      "image/png": "[encoded data removed]",
      "text/plain": [
       "<Figure size 432x288 with 1 Axes>"
      ]
     },
     "metadata": {
      "needs_background": "light"
     },
     "output_type": "display_data"
    }
   ],
   "source": [
    "colors = ['g', 'b', 'c', 'm', 'y', 'k']\n",
    "for label in set(labels_clustering):\n",
    "    plt.scatter(transformed[transformed['label'] == label][0], transformed[transformed['label'] == label][1], label='Class '+str(label), c=colors[label%len(colors)])\n",
    "\n",
    "plt.legend()\n",
    "plt.show()"
   ]
  }
 ],
 "metadata": {
  "kernelspec": {
   "display_name": "Python 3",
   "language": "python",
   "name": "python3"
  },
  "language_info": {
   "codemirror_mode": {
    "name": "ipython",
    "version": 3
   },
   "file_extension": ".py",
   "mimetype": "text/x-python",
   "name": "python",
   "nbconvert_exporter": "python",
   "pygments_lexer": "ipython3",
   "version": "3.7.3"
  }
 },
 "nbformat": 4,
 "nbformat_minor": 2
}
